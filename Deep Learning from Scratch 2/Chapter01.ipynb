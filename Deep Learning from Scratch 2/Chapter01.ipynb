{
 "cells": [
  {
   "cell_type": "markdown",
   "id": "67975af1",
   "metadata": {},
   "source": [
    "# 1.1 수학과 파이썬 복습"
   ]
  },
  {
   "cell_type": "code",
   "execution_count": 1,
   "id": "ffa0f954",
   "metadata": {},
   "outputs": [],
   "source": [
    "import numpy as np"
   ]
  },
  {
   "cell_type": "code",
   "execution_count": 2,
   "id": "85665b25",
   "metadata": {},
   "outputs": [
    {
     "data": {
      "text/plain": [
       "numpy.ndarray"
      ]
     },
     "execution_count": 2,
     "metadata": {},
     "output_type": "execute_result"
    }
   ],
   "source": [
    "x = np.array([1, 2, 3])\n",
    "x.__class__"
   ]
  },
  {
   "cell_type": "code",
   "execution_count": 3,
   "id": "f847ad72",
   "metadata": {},
   "outputs": [
    {
     "data": {
      "text/plain": [
       "(3,)"
      ]
     },
     "execution_count": 3,
     "metadata": {},
     "output_type": "execute_result"
    }
   ],
   "source": [
    "x.shape"
   ]
  },
  {
   "cell_type": "code",
   "execution_count": 4,
   "id": "278061c3",
   "metadata": {},
   "outputs": [
    {
     "data": {
      "text/plain": [
       "1"
      ]
     },
     "execution_count": 4,
     "metadata": {},
     "output_type": "execute_result"
    }
   ],
   "source": [
    "x.ndim"
   ]
  },
  {
   "cell_type": "code",
   "execution_count": 5,
   "id": "dbac326f",
   "metadata": {},
   "outputs": [
    {
     "data": {
      "text/plain": [
       "(2, 3)"
      ]
     },
     "execution_count": 5,
     "metadata": {},
     "output_type": "execute_result"
    }
   ],
   "source": [
    "W = np.array([[1, 2, 3],\n",
    "            [4, 5, 6]])\n",
    "W.shape"
   ]
  },
  {
   "cell_type": "code",
   "execution_count": 6,
   "id": "f60ba6b6",
   "metadata": {},
   "outputs": [
    {
     "data": {
      "text/plain": [
       "2"
      ]
     },
     "execution_count": 6,
     "metadata": {},
     "output_type": "execute_result"
    }
   ],
   "source": [
    "W.ndim"
   ]
  },
  {
   "cell_type": "code",
   "execution_count": 7,
   "id": "5c45bc38",
   "metadata": {},
   "outputs": [
    {
     "data": {
      "text/plain": [
       "array([[ 1,  3,  5],\n",
       "       [ 7,  9, 11]])"
      ]
     },
     "execution_count": 7,
     "metadata": {},
     "output_type": "execute_result"
    }
   ],
   "source": [
    "W = np.array([[1,2,3], [4,5,6]])\n",
    "X = np.array([[0,1,2], [3,4,5]])\n",
    "W + X"
   ]
  },
  {
   "cell_type": "code",
   "execution_count": 8,
   "id": "a7a55cf7",
   "metadata": {},
   "outputs": [
    {
     "data": {
      "text/plain": [
       "array([[ 0,  2,  6],\n",
       "       [12, 20, 30]])"
      ]
     },
     "execution_count": 8,
     "metadata": {},
     "output_type": "execute_result"
    }
   ],
   "source": [
    "W * X"
   ]
  },
  {
   "cell_type": "code",
   "execution_count": 9,
   "id": "320e9099",
   "metadata": {},
   "outputs": [
    {
     "data": {
      "text/plain": [
       "array([[10, 20],\n",
       "       [30, 40]])"
      ]
     },
     "execution_count": 9,
     "metadata": {},
     "output_type": "execute_result"
    }
   ],
   "source": [
    "A = np.array([[1,2], [3,4]])\n",
    "A * 10 #broadcast"
   ]
  },
  {
   "cell_type": "code",
   "execution_count": 10,
   "id": "caaab147",
   "metadata": {},
   "outputs": [
    {
     "data": {
      "text/plain": [
       "array([[10, 40],\n",
       "       [30, 80]])"
      ]
     },
     "execution_count": 10,
     "metadata": {},
     "output_type": "execute_result"
    }
   ],
   "source": [
    "A = np.array([[1,2], [3,4]])\n",
    "b = np.array([10, 20])\n",
    "A * b"
   ]
  },
  {
   "cell_type": "code",
   "execution_count": 11,
   "id": "2e07be18",
   "metadata": {},
   "outputs": [
    {
     "data": {
      "text/plain": [
       "32"
      ]
     },
     "execution_count": 11,
     "metadata": {},
     "output_type": "execute_result"
    }
   ],
   "source": [
    "a = np.array([1,2,3])\n",
    "b = np.array([4,5,6])\n",
    "np.dot(a,b)"
   ]
  },
  {
   "cell_type": "code",
   "execution_count": 12,
   "id": "3d1c5e49",
   "metadata": {},
   "outputs": [
    {
     "data": {
      "text/plain": [
       "array([[19, 22],\n",
       "       [43, 50]])"
      ]
     },
     "execution_count": 12,
     "metadata": {},
     "output_type": "execute_result"
    }
   ],
   "source": [
    "A = np.array([[1,2], [3,4]])\n",
    "B = np.array([[5,6], [7,8]])\n",
    "np.matmul(A,B)"
   ]
  },
  {
   "cell_type": "markdown",
   "id": "b3c75acd",
   "metadata": {},
   "source": [
    "# 1.2 신경망 추론"
   ]
  },
  {
   "cell_type": "code",
   "execution_count": 13,
   "id": "60f1b030",
   "metadata": {},
   "outputs": [],
   "source": [
    "import numpy as np\n",
    "W1 = np.random.randn(2,4)\n",
    "b1 = np.random.randn(4)\n",
    "x = np.random.randn(10,2)\n",
    "h = np.matmul(x,W1) + b1"
   ]
  },
  {
   "cell_type": "code",
   "execution_count": 14,
   "id": "93b71d4c",
   "metadata": {},
   "outputs": [],
   "source": [
    "def sigmoid(x):\n",
    "    return 1/(1+np.exp(-x))"
   ]
  },
  {
   "cell_type": "code",
   "execution_count": 15,
   "id": "2676e23f",
   "metadata": {},
   "outputs": [],
   "source": [
    "a = sigmoid(h)"
   ]
  },
  {
   "cell_type": "code",
   "execution_count": 16,
   "id": "932b98d5",
   "metadata": {},
   "outputs": [],
   "source": [
    "x = np.random.randn(10,2)\n",
    "W1 = np.random.randn(2,4)\n",
    "b1 = np.random.randn(4)\n",
    "W2 = np.random.randn(4,3)\n",
    "b2 = np.random.randn(3)\n",
    "\n",
    "h = np.matmul(x, W1) + b1\n",
    "a = sigmoid(h)\n",
    "s = np.matmul(a, W2) + b2"
   ]
  },
  {
   "cell_type": "code",
   "execution_count": 17,
   "id": "a5b61a53",
   "metadata": {},
   "outputs": [],
   "source": [
    "class Sigmoid:\n",
    "    def __init__(self):\n",
    "        self.params = []\n",
    "    def forward(self, x):\n",
    "        return 1/(1+np.exp(-x))"
   ]
  },
  {
   "cell_type": "code",
   "execution_count": 18,
   "id": "ea64d8b3",
   "metadata": {},
   "outputs": [],
   "source": [
    "class Affine:\n",
    "    def __init__(self, W, b):\n",
    "        self.params = [W, b]\n",
    "        \n",
    "    def forward(self, x):\n",
    "        W, b = self.params\n",
    "        out = np.matmul(x, W) + b\n",
    "        return out"
   ]
  },
  {
   "cell_type": "code",
   "execution_count": 19,
   "id": "c29c8c1d",
   "metadata": {},
   "outputs": [],
   "source": [
    "class TwoLayerNet:\n",
    "    def __init__(self, input_size, hidden_size, output_size):\n",
    "        I, H, O = input_size, hidden_size, output_size\n",
    "        \n",
    "        W1 = np.random.randn(I, H)\n",
    "        b1 = np.random.randn(H)\n",
    "        W2 = np.random.randn(H, O)\n",
    "        b2 = np.random.randn(O)\n",
    "        \n",
    "        self.layers = [\n",
    "            Affine(W1, b1),\n",
    "            Sigmoid(),\n",
    "            Affine(W2, b2)\n",
    "        ]\n",
    "        \n",
    "        self.params = []\n",
    "        for layer in self.layers:\n",
    "            self.params += layer.params\n",
    "            \n",
    "    def predict(self, x):\n",
    "        for layer in self.layers:\n",
    "            x = layer.forward(x)\n",
    "        return x"
   ]
  },
  {
   "cell_type": "code",
   "execution_count": 20,
   "id": "300a8b64",
   "metadata": {},
   "outputs": [
    {
     "data": {
      "text/plain": [
       "['A', 'B', 'C', 'D']"
      ]
     },
     "execution_count": 20,
     "metadata": {},
     "output_type": "execute_result"
    }
   ],
   "source": [
    "a = ['A', 'B']\n",
    "a += ['C', 'D']\n",
    "a"
   ]
  },
  {
   "cell_type": "code",
   "execution_count": 21,
   "id": "0ca8d76e",
   "metadata": {},
   "outputs": [],
   "source": [
    "x = np.random.rand(10,2)\n",
    "model = TwoLayerNet(2,4,3)\n",
    "s = model.predict(x)"
   ]
  },
  {
   "cell_type": "markdown",
   "id": "f7f9ab02",
   "metadata": {},
   "source": [
    "# 1.3 신경망의 학습"
   ]
  },
  {
   "cell_type": "code",
   "execution_count": 22,
   "id": "9ab3f570",
   "metadata": {},
   "outputs": [],
   "source": [
    "D,N = 8, 7\n",
    "x = np.random.randn(1, D)\n",
    "y = np.repeat(x, N, axis = 0)\n",
    "dy = np.random.randn(N,D)\n",
    "dx = np.sum(dy, axis = 0, keepdims = True)"
   ]
  },
  {
   "cell_type": "code",
   "execution_count": 23,
   "id": "1e8a8dbe",
   "metadata": {},
   "outputs": [],
   "source": [
    "D,N = 8,7\n",
    "x = np.random.randn(N,D)\n",
    "y = np.sum(x, axis = 0, keepdims = True)\n",
    "\n",
    "dy = np.random.randn(1,D)\n",
    "dx = np.repeat(dy, D, axis = 0)"
   ]
  },
  {
   "cell_type": "code",
   "execution_count": 24,
   "id": "7189b2cb",
   "metadata": {},
   "outputs": [],
   "source": [
    "class MatMUl:\n",
    "    def __init__(self, W):\n",
    "        self.params = [W]\n",
    "        self.grads = [np.zeros_like(W)]\n",
    "        self.x = None\n",
    "    \n",
    "    def forward(self, x):\n",
    "        W, = self.parms\n",
    "        out = np.matmul(x, W)\n",
    "        return out\n",
    "\n",
    "    def backward(self, dout):\n",
    "        W, = self.params\n",
    "        dx = np.matmul(dout, W.T)\n",
    "        dW = np.matmul(self.x.T, dout)\n",
    "        self.grads[0][...] = dW\n",
    "        return dx\n",
    "    "
   ]
  },
  {
   "cell_type": "code",
   "execution_count": 25,
   "id": "c8c636dc",
   "metadata": {},
   "outputs": [],
   "source": [
    "class Sigmoid:\n",
    "    def __init__(self):\n",
    "        self.params, self.grads = [], []\n",
    "        self.out = None\n",
    "        \n",
    "    def forward(self, x):\n",
    "        out = 1/(1+np.exp(-x))\n",
    "        self.out = out\n",
    "        return out\n",
    "    \n",
    "    def backward(self, dout):\n",
    "        dx = dout * (1-self.out) * self.out\n",
    "        return dx"
   ]
  },
  {
   "cell_type": "code",
   "execution_count": 26,
   "id": "ce54e9d2",
   "metadata": {},
   "outputs": [],
   "source": [
    "class Affine:\n",
    "    def __init__(self, W, b):\n",
    "        self.params = [W,b]\n",
    "        self.grads = [np.zeros_like(W), np.zeros_like(b)]\n",
    "        self.x = None\n",
    "    \n",
    "    def forward(self, x):\n",
    "        W, b = self.params\n",
    "        out = np.matmul(x,W) + b\n",
    "        self.x = x\n",
    "        return out\n",
    "    \n",
    "    def backward(self, dout):\n",
    "        W,b = self.params\n",
    "        dx = np.matmul(dout, W.T)\n",
    "        dW = np.matmul(self.x.T, dout)\n",
    "        db = np.sum(dout, axis = 0)\n",
    "        \n",
    "        self.grads[0][...] = dW\n",
    "        self.grads[1][...] = dx\n",
    "        return dx"
   ]
  },
  {
   "cell_type": "code",
   "execution_count": 27,
   "id": "850214ec",
   "metadata": {},
   "outputs": [],
   "source": [
    "class SGD:\n",
    "    def __init__(self, lr = 0.01):\n",
    "        self.lr = lr\n",
    "    def update(self, params, grads):\n",
    "        for i in range(len(params)):\n",
    "            params[i] -= self.lr *grads[i]"
   ]
  },
  {
   "cell_type": "code",
   "execution_count": 28,
   "id": "7ec970d8",
   "metadata": {},
   "outputs": [
    {
     "data": {
      "text/plain": [
       "'\\nmodel = TwoLayerNet(...)\\noptimizer = SGD()\\n\\nfor i in range(10000):\\n    ...\\n    x_batch, t_batch = get_mini_batch(...)\\n    loss = model.forward(x_batch, t_batch)\\n    model.backward()\\n    optimizer.update(model.params, model.grads)\\n    ...\\n'"
      ]
     },
     "execution_count": 28,
     "metadata": {},
     "output_type": "execute_result"
    }
   ],
   "source": [
    "'''\n",
    "model = TwoLayerNet(...)\n",
    "optimizer = SGD()\n",
    "\n",
    "for i in range(10000):\n",
    "    ...\n",
    "    x_batch, t_batch = get_mini_batch(...)\n",
    "    loss = model.forward(x_batch, t_batch)\n",
    "    model.backward()\n",
    "    optimizer.update(model.params, model.grads)\n",
    "    ...\n",
    "'''"
   ]
  },
  {
   "cell_type": "markdown",
   "id": "bf3992c8",
   "metadata": {},
   "source": [
    "# 1.4 신경망으로 문제를 풀다"
   ]
  },
  {
   "cell_type": "code",
   "execution_count": 29,
   "id": "33074a9b",
   "metadata": {},
   "outputs": [
    {
     "name": "stdout",
     "output_type": "stream",
     "text": [
      "x (300, 2)\n",
      "t (300, 3)\n"
     ]
    }
   ],
   "source": [
    "import sys\n",
    "sys.path.append('..')\n",
    "from dataset import spiral\n",
    "import matplotlib.pyplot as plt\n",
    "\n",
    "x,t = spiral.load_data()\n",
    "print('x', x.shape)\n",
    "print('t', t.shape)"
   ]
  },
  {
   "cell_type": "code",
   "execution_count": 30,
   "id": "d840f789",
   "metadata": {},
   "outputs": [],
   "source": [
    "from common.layers import Affine, Sigmoid, SoftmaxWithLoss\n",
    "\n",
    "class TwoLayerNet:\n",
    "    def __init__(self, input_size, hidden_size, output_size):\n",
    "        I, H, O = input_size, hidden_size, output_size\n",
    "        \n",
    "        W1 = 0.01 * np.random.randn(I,H)\n",
    "        b1 = np.zeros(H)\n",
    "        W2 = 0.01 * np.random.randn(H,O)\n",
    "        b2 = np.zeros(O)\n",
    "        \n",
    "        self.layers =[\n",
    "            Affine(W1, b1),\n",
    "            Sigmoid(),\n",
    "            Affine(W2, b2)\n",
    "        ]\n",
    "        self.loss_layer = SoftmaxWithLoss()\n",
    "        \n",
    "        self.params, self.grads = [], []\n",
    "        for layer in self.layers:\n",
    "            self.params += layer.params\n",
    "            self.grads += layer.grads\n",
    "    \n",
    "    def predict(self, x):\n",
    "        for layer in self.layers:\n",
    "            x = layer.forward(x)\n",
    "        return x\n",
    "    \n",
    "    def forward(self, x, t):\n",
    "        score = self.predict(x)\n",
    "        loss = self.loss_layer.forward(score, t)\n",
    "        return loss\n",
    "    \n",
    "    def backward(self, dout = 1):\n",
    "        dout = self.loss_layer.backward(dout)\n",
    "        for layer in reversed(self.layers):\n",
    "            dout = layer.backward(dout)\n",
    "        return dout"
   ]
  },
  {
   "cell_type": "code",
   "execution_count": 31,
   "id": "d557f2b6",
   "metadata": {},
   "outputs": [
    {
     "name": "stdout",
     "output_type": "stream",
     "text": [
      "|epoch 1 | repeat 10 / 10 | loss 1.13\n",
      "|epoch 2 | repeat 10 / 10 | loss 1.13\n",
      "|epoch 3 | repeat 10 / 10 | loss 1.12\n",
      "|epoch 4 | repeat 10 / 10 | loss 1.12\n",
      "|epoch 5 | repeat 10 / 10 | loss 1.11\n",
      "|epoch 6 | repeat 10 / 10 | loss 1.14\n",
      "|epoch 7 | repeat 10 / 10 | loss 1.16\n",
      "|epoch 8 | repeat 10 / 10 | loss 1.11\n",
      "|epoch 9 | repeat 10 / 10 | loss 1.12\n",
      "|epoch 10 | repeat 10 / 10 | loss 1.13\n",
      "|epoch 11 | repeat 10 / 10 | loss 1.12\n",
      "|epoch 12 | repeat 10 / 10 | loss 1.11\n",
      "|epoch 13 | repeat 10 / 10 | loss 1.09\n",
      "|epoch 14 | repeat 10 / 10 | loss 1.08\n",
      "|epoch 15 | repeat 10 / 10 | loss 1.04\n",
      "|epoch 16 | repeat 10 / 10 | loss 1.03\n",
      "|epoch 17 | repeat 10 / 10 | loss 0.96\n",
      "|epoch 18 | repeat 10 / 10 | loss 0.92\n",
      "|epoch 19 | repeat 10 / 10 | loss 0.92\n",
      "|epoch 20 | repeat 10 / 10 | loss 0.87\n",
      "|epoch 21 | repeat 10 / 10 | loss 0.85\n",
      "|epoch 22 | repeat 10 / 10 | loss 0.82\n",
      "|epoch 23 | repeat 10 / 10 | loss 0.79\n",
      "|epoch 24 | repeat 10 / 10 | loss 0.78\n",
      "|epoch 25 | repeat 10 / 10 | loss 0.82\n",
      "|epoch 26 | repeat 10 / 10 | loss 0.78\n",
      "|epoch 27 | repeat 10 / 10 | loss 0.76\n",
      "|epoch 28 | repeat 10 / 10 | loss 0.76\n",
      "|epoch 29 | repeat 10 / 10 | loss 0.78\n",
      "|epoch 30 | repeat 10 / 10 | loss 0.75\n",
      "|epoch 31 | repeat 10 / 10 | loss 0.78\n",
      "|epoch 32 | repeat 10 / 10 | loss 0.77\n",
      "|epoch 33 | repeat 10 / 10 | loss 0.77\n",
      "|epoch 34 | repeat 10 / 10 | loss 0.78\n",
      "|epoch 35 | repeat 10 / 10 | loss 0.75\n",
      "|epoch 36 | repeat 10 / 10 | loss 0.74\n",
      "|epoch 37 | repeat 10 / 10 | loss 0.76\n",
      "|epoch 38 | repeat 10 / 10 | loss 0.76\n",
      "|epoch 39 | repeat 10 / 10 | loss 0.73\n",
      "|epoch 40 | repeat 10 / 10 | loss 0.75\n",
      "|epoch 41 | repeat 10 / 10 | loss 0.76\n",
      "|epoch 42 | repeat 10 / 10 | loss 0.76\n",
      "|epoch 43 | repeat 10 / 10 | loss 0.76\n",
      "|epoch 44 | repeat 10 / 10 | loss 0.74\n",
      "|epoch 45 | repeat 10 / 10 | loss 0.75\n",
      "|epoch 46 | repeat 10 / 10 | loss 0.73\n",
      "|epoch 47 | repeat 10 / 10 | loss 0.72\n",
      "|epoch 48 | repeat 10 / 10 | loss 0.73\n",
      "|epoch 49 | repeat 10 / 10 | loss 0.72\n",
      "|epoch 50 | repeat 10 / 10 | loss 0.72\n",
      "|epoch 51 | repeat 10 / 10 | loss 0.72\n",
      "|epoch 52 | repeat 10 / 10 | loss 0.72\n",
      "|epoch 53 | repeat 10 / 10 | loss 0.74\n",
      "|epoch 54 | repeat 10 / 10 | loss 0.74\n",
      "|epoch 55 | repeat 10 / 10 | loss 0.72\n",
      "|epoch 56 | repeat 10 / 10 | loss 0.72\n",
      "|epoch 57 | repeat 10 / 10 | loss 0.71\n",
      "|epoch 58 | repeat 10 / 10 | loss 0.70\n",
      "|epoch 59 | repeat 10 / 10 | loss 0.72\n",
      "|epoch 60 | repeat 10 / 10 | loss 0.70\n",
      "|epoch 61 | repeat 10 / 10 | loss 0.71\n",
      "|epoch 62 | repeat 10 / 10 | loss 0.72\n",
      "|epoch 63 | repeat 10 / 10 | loss 0.70\n",
      "|epoch 64 | repeat 10 / 10 | loss 0.71\n",
      "|epoch 65 | repeat 10 / 10 | loss 0.73\n",
      "|epoch 66 | repeat 10 / 10 | loss 0.70\n",
      "|epoch 67 | repeat 10 / 10 | loss 0.71\n",
      "|epoch 68 | repeat 10 / 10 | loss 0.69\n",
      "|epoch 69 | repeat 10 / 10 | loss 0.70\n",
      "|epoch 70 | repeat 10 / 10 | loss 0.71\n",
      "|epoch 71 | repeat 10 / 10 | loss 0.68\n",
      "|epoch 72 | repeat 10 / 10 | loss 0.69\n",
      "|epoch 73 | repeat 10 / 10 | loss 0.67\n",
      "|epoch 74 | repeat 10 / 10 | loss 0.68\n",
      "|epoch 75 | repeat 10 / 10 | loss 0.67\n",
      "|epoch 76 | repeat 10 / 10 | loss 0.66\n",
      "|epoch 77 | repeat 10 / 10 | loss 0.69\n",
      "|epoch 78 | repeat 10 / 10 | loss 0.64\n",
      "|epoch 79 | repeat 10 / 10 | loss 0.68\n",
      "|epoch 80 | repeat 10 / 10 | loss 0.64\n",
      "|epoch 81 | repeat 10 / 10 | loss 0.64\n",
      "|epoch 82 | repeat 10 / 10 | loss 0.66\n",
      "|epoch 83 | repeat 10 / 10 | loss 0.62\n",
      "|epoch 84 | repeat 10 / 10 | loss 0.62\n",
      "|epoch 85 | repeat 10 / 10 | loss 0.61\n",
      "|epoch 86 | repeat 10 / 10 | loss 0.60\n",
      "|epoch 87 | repeat 10 / 10 | loss 0.60\n",
      "|epoch 88 | repeat 10 / 10 | loss 0.61\n",
      "|epoch 89 | repeat 10 / 10 | loss 0.59\n",
      "|epoch 90 | repeat 10 / 10 | loss 0.58\n",
      "|epoch 91 | repeat 10 / 10 | loss 0.56\n",
      "|epoch 92 | repeat 10 / 10 | loss 0.56\n",
      "|epoch 93 | repeat 10 / 10 | loss 0.54\n",
      "|epoch 94 | repeat 10 / 10 | loss 0.53\n",
      "|epoch 95 | repeat 10 / 10 | loss 0.53\n",
      "|epoch 96 | repeat 10 / 10 | loss 0.52\n",
      "|epoch 97 | repeat 10 / 10 | loss 0.51\n",
      "|epoch 98 | repeat 10 / 10 | loss 0.50\n",
      "|epoch 99 | repeat 10 / 10 | loss 0.48\n",
      "|epoch 100 | repeat 10 / 10 | loss 0.48\n",
      "|epoch 101 | repeat 10 / 10 | loss 0.46\n",
      "|epoch 102 | repeat 10 / 10 | loss 0.45\n",
      "|epoch 103 | repeat 10 / 10 | loss 0.45\n",
      "|epoch 104 | repeat 10 / 10 | loss 0.44\n",
      "|epoch 105 | repeat 10 / 10 | loss 0.44\n",
      "|epoch 106 | repeat 10 / 10 | loss 0.41\n",
      "|epoch 107 | repeat 10 / 10 | loss 0.40\n",
      "|epoch 108 | repeat 10 / 10 | loss 0.41\n",
      "|epoch 109 | repeat 10 / 10 | loss 0.40\n",
      "|epoch 110 | repeat 10 / 10 | loss 0.40\n",
      "|epoch 111 | repeat 10 / 10 | loss 0.38\n",
      "|epoch 112 | repeat 10 / 10 | loss 0.38\n",
      "|epoch 113 | repeat 10 / 10 | loss 0.36\n",
      "|epoch 114 | repeat 10 / 10 | loss 0.37\n",
      "|epoch 115 | repeat 10 / 10 | loss 0.35\n",
      "|epoch 116 | repeat 10 / 10 | loss 0.34\n",
      "|epoch 117 | repeat 10 / 10 | loss 0.34\n",
      "|epoch 118 | repeat 10 / 10 | loss 0.34\n",
      "|epoch 119 | repeat 10 / 10 | loss 0.33\n",
      "|epoch 120 | repeat 10 / 10 | loss 0.34\n",
      "|epoch 121 | repeat 10 / 10 | loss 0.32\n",
      "|epoch 122 | repeat 10 / 10 | loss 0.32\n",
      "|epoch 123 | repeat 10 / 10 | loss 0.31\n",
      "|epoch 124 | repeat 10 / 10 | loss 0.31\n",
      "|epoch 125 | repeat 10 / 10 | loss 0.30\n",
      "|epoch 126 | repeat 10 / 10 | loss 0.30\n",
      "|epoch 127 | repeat 10 / 10 | loss 0.28\n",
      "|epoch 128 | repeat 10 / 10 | loss 0.28\n",
      "|epoch 129 | repeat 10 / 10 | loss 0.28\n",
      "|epoch 130 | repeat 10 / 10 | loss 0.28\n",
      "|epoch 131 | repeat 10 / 10 | loss 0.27\n",
      "|epoch 132 | repeat 10 / 10 | loss 0.27\n",
      "|epoch 133 | repeat 10 / 10 | loss 0.27\n",
      "|epoch 134 | repeat 10 / 10 | loss 0.27\n",
      "|epoch 135 | repeat 10 / 10 | loss 0.27\n",
      "|epoch 136 | repeat 10 / 10 | loss 0.26\n",
      "|epoch 137 | repeat 10 / 10 | loss 0.26\n",
      "|epoch 138 | repeat 10 / 10 | loss 0.26\n",
      "|epoch 139 | repeat 10 / 10 | loss 0.25\n",
      "|epoch 140 | repeat 10 / 10 | loss 0.24\n",
      "|epoch 141 | repeat 10 / 10 | loss 0.24\n",
      "|epoch 142 | repeat 10 / 10 | loss 0.25\n",
      "|epoch 143 | repeat 10 / 10 | loss 0.24\n",
      "|epoch 144 | repeat 10 / 10 | loss 0.24\n",
      "|epoch 145 | repeat 10 / 10 | loss 0.23\n",
      "|epoch 146 | repeat 10 / 10 | loss 0.24\n",
      "|epoch 147 | repeat 10 / 10 | loss 0.23\n",
      "|epoch 148 | repeat 10 / 10 | loss 0.23\n",
      "|epoch 149 | repeat 10 / 10 | loss 0.22\n",
      "|epoch 150 | repeat 10 / 10 | loss 0.22\n",
      "|epoch 151 | repeat 10 / 10 | loss 0.22\n",
      "|epoch 152 | repeat 10 / 10 | loss 0.22\n",
      "|epoch 153 | repeat 10 / 10 | loss 0.22\n",
      "|epoch 154 | repeat 10 / 10 | loss 0.22\n",
      "|epoch 155 | repeat 10 / 10 | loss 0.22\n",
      "|epoch 156 | repeat 10 / 10 | loss 0.21\n",
      "|epoch 157 | repeat 10 / 10 | loss 0.21\n",
      "|epoch 158 | repeat 10 / 10 | loss 0.20\n",
      "|epoch 159 | repeat 10 / 10 | loss 0.21\n",
      "|epoch 160 | repeat 10 / 10 | loss 0.20\n",
      "|epoch 161 | repeat 10 / 10 | loss 0.20\n",
      "|epoch 162 | repeat 10 / 10 | loss 0.20\n",
      "|epoch 163 | repeat 10 / 10 | loss 0.21\n",
      "|epoch 164 | repeat 10 / 10 | loss 0.20\n",
      "|epoch 165 | repeat 10 / 10 | loss 0.20\n",
      "|epoch 166 | repeat 10 / 10 | loss 0.19\n",
      "|epoch 167 | repeat 10 / 10 | loss 0.19\n",
      "|epoch 168 | repeat 10 / 10 | loss 0.19\n",
      "|epoch 169 | repeat 10 / 10 | loss 0.19\n",
      "|epoch 170 | repeat 10 / 10 | loss 0.19\n",
      "|epoch 171 | repeat 10 / 10 | loss 0.19\n",
      "|epoch 172 | repeat 10 / 10 | loss 0.18\n",
      "|epoch 173 | repeat 10 / 10 | loss 0.18\n",
      "|epoch 174 | repeat 10 / 10 | loss 0.18\n",
      "|epoch 175 | repeat 10 / 10 | loss 0.18\n",
      "|epoch 176 | repeat 10 / 10 | loss 0.18\n",
      "|epoch 177 | repeat 10 / 10 | loss 0.18\n",
      "|epoch 178 | repeat 10 / 10 | loss 0.18\n",
      "|epoch 179 | repeat 10 / 10 | loss 0.17\n",
      "|epoch 180 | repeat 10 / 10 | loss 0.17\n",
      "|epoch 181 | repeat 10 / 10 | loss 0.18\n",
      "|epoch 182 | repeat 10 / 10 | loss 0.17\n",
      "|epoch 183 | repeat 10 / 10 | loss 0.18\n",
      "|epoch 184 | repeat 10 / 10 | loss 0.17\n",
      "|epoch 185 | repeat 10 / 10 | loss 0.17\n",
      "|epoch 186 | repeat 10 / 10 | loss 0.18\n",
      "|epoch 187 | repeat 10 / 10 | loss 0.17\n",
      "|epoch 188 | repeat 10 / 10 | loss 0.17\n",
      "|epoch 189 | repeat 10 / 10 | loss 0.17\n",
      "|epoch 190 | repeat 10 / 10 | loss 0.17\n",
      "|epoch 191 | repeat 10 / 10 | loss 0.16\n",
      "|epoch 192 | repeat 10 / 10 | loss 0.17\n",
      "|epoch 193 | repeat 10 / 10 | loss 0.16\n",
      "|epoch 194 | repeat 10 / 10 | loss 0.16\n",
      "|epoch 195 | repeat 10 / 10 | loss 0.16\n",
      "|epoch 196 | repeat 10 / 10 | loss 0.16\n",
      "|epoch 197 | repeat 10 / 10 | loss 0.16\n",
      "|epoch 198 | repeat 10 / 10 | loss 0.15\n",
      "|epoch 199 | repeat 10 / 10 | loss 0.16\n",
      "|epoch 200 | repeat 10 / 10 | loss 0.16\n",
      "|epoch 201 | repeat 10 / 10 | loss 0.15\n",
      "|epoch 202 | repeat 10 / 10 | loss 0.16\n",
      "|epoch 203 | repeat 10 / 10 | loss 0.16\n",
      "|epoch 204 | repeat 10 / 10 | loss 0.15\n",
      "|epoch 205 | repeat 10 / 10 | loss 0.16\n",
      "|epoch 206 | repeat 10 / 10 | loss 0.15\n",
      "|epoch 207 | repeat 10 / 10 | loss 0.15\n",
      "|epoch 208 | repeat 10 / 10 | loss 0.15\n",
      "|epoch 209 | repeat 10 / 10 | loss 0.15\n",
      "|epoch 210 | repeat 10 / 10 | loss 0.15\n",
      "|epoch 211 | repeat 10 / 10 | loss 0.15\n",
      "|epoch 212 | repeat 10 / 10 | loss 0.15\n",
      "|epoch 213 | repeat 10 / 10 | loss 0.15\n",
      "|epoch 214 | repeat 10 / 10 | loss 0.15\n",
      "|epoch 215 | repeat 10 / 10 | loss 0.15\n",
      "|epoch 216 | repeat 10 / 10 | loss 0.14\n",
      "|epoch 217 | repeat 10 / 10 | loss 0.14\n",
      "|epoch 218 | repeat 10 / 10 | loss 0.15\n",
      "|epoch 219 | repeat 10 / 10 | loss 0.14\n",
      "|epoch 220 | repeat 10 / 10 | loss 0.14\n",
      "|epoch 221 | repeat 10 / 10 | loss 0.14\n",
      "|epoch 222 | repeat 10 / 10 | loss 0.14\n",
      "|epoch 223 | repeat 10 / 10 | loss 0.14\n",
      "|epoch 224 | repeat 10 / 10 | loss 0.14\n",
      "|epoch 225 | repeat 10 / 10 | loss 0.14\n",
      "|epoch 226 | repeat 10 / 10 | loss 0.14\n",
      "|epoch 227 | repeat 10 / 10 | loss 0.14\n",
      "|epoch 228 | repeat 10 / 10 | loss 0.14\n",
      "|epoch 229 | repeat 10 / 10 | loss 0.13\n",
      "|epoch 230 | repeat 10 / 10 | loss 0.14\n",
      "|epoch 231 | repeat 10 / 10 | loss 0.13\n",
      "|epoch 232 | repeat 10 / 10 | loss 0.14\n",
      "|epoch 233 | repeat 10 / 10 | loss 0.13\n",
      "|epoch 234 | repeat 10 / 10 | loss 0.13\n",
      "|epoch 235 | repeat 10 / 10 | loss 0.13\n",
      "|epoch 236 | repeat 10 / 10 | loss 0.13\n",
      "|epoch 237 | repeat 10 / 10 | loss 0.14\n",
      "|epoch 238 | repeat 10 / 10 | loss 0.13\n",
      "|epoch 239 | repeat 10 / 10 | loss 0.13\n",
      "|epoch 240 | repeat 10 / 10 | loss 0.14\n",
      "|epoch 241 | repeat 10 / 10 | loss 0.13\n",
      "|epoch 242 | repeat 10 / 10 | loss 0.13\n",
      "|epoch 243 | repeat 10 / 10 | loss 0.13\n",
      "|epoch 244 | repeat 10 / 10 | loss 0.13\n",
      "|epoch 245 | repeat 10 / 10 | loss 0.13\n",
      "|epoch 246 | repeat 10 / 10 | loss 0.13\n",
      "|epoch 247 | repeat 10 / 10 | loss 0.13\n",
      "|epoch 248 | repeat 10 / 10 | loss 0.13\n",
      "|epoch 249 | repeat 10 / 10 | loss 0.13\n",
      "|epoch 250 | repeat 10 / 10 | loss 0.13\n",
      "|epoch 251 | repeat 10 / 10 | loss 0.13\n",
      "|epoch 252 | repeat 10 / 10 | loss 0.12\n",
      "|epoch 253 | repeat 10 / 10 | loss 0.12\n",
      "|epoch 254 | repeat 10 / 10 | loss 0.12\n",
      "|epoch 255 | repeat 10 / 10 | loss 0.12\n",
      "|epoch 256 | repeat 10 / 10 | loss 0.12\n",
      "|epoch 257 | repeat 10 / 10 | loss 0.12\n",
      "|epoch 258 | repeat 10 / 10 | loss 0.12\n",
      "|epoch 259 | repeat 10 / 10 | loss 0.13\n",
      "|epoch 260 | repeat 10 / 10 | loss 0.12\n",
      "|epoch 261 | repeat 10 / 10 | loss 0.13\n",
      "|epoch 262 | repeat 10 / 10 | loss 0.12\n",
      "|epoch 263 | repeat 10 / 10 | loss 0.12\n",
      "|epoch 264 | repeat 10 / 10 | loss 0.13\n",
      "|epoch 265 | repeat 10 / 10 | loss 0.12\n",
      "|epoch 266 | repeat 10 / 10 | loss 0.12\n",
      "|epoch 267 | repeat 10 / 10 | loss 0.12\n",
      "|epoch 268 | repeat 10 / 10 | loss 0.12\n",
      "|epoch 269 | repeat 10 / 10 | loss 0.11\n",
      "|epoch 270 | repeat 10 / 10 | loss 0.12\n",
      "|epoch 271 | repeat 10 / 10 | loss 0.12\n",
      "|epoch 272 | repeat 10 / 10 | loss 0.12\n",
      "|epoch 273 | repeat 10 / 10 | loss 0.12\n",
      "|epoch 274 | repeat 10 / 10 | loss 0.12\n",
      "|epoch 275 | repeat 10 / 10 | loss 0.11\n",
      "|epoch 276 | repeat 10 / 10 | loss 0.12\n",
      "|epoch 277 | repeat 10 / 10 | loss 0.12\n",
      "|epoch 278 | repeat 10 / 10 | loss 0.11\n",
      "|epoch 279 | repeat 10 / 10 | loss 0.11\n",
      "|epoch 280 | repeat 10 / 10 | loss 0.11\n",
      "|epoch 281 | repeat 10 / 10 | loss 0.11\n",
      "|epoch 282 | repeat 10 / 10 | loss 0.12\n",
      "|epoch 283 | repeat 10 / 10 | loss 0.11\n",
      "|epoch 284 | repeat 10 / 10 | loss 0.11\n",
      "|epoch 285 | repeat 10 / 10 | loss 0.11\n",
      "|epoch 286 | repeat 10 / 10 | loss 0.11\n",
      "|epoch 287 | repeat 10 / 10 | loss 0.11\n",
      "|epoch 288 | repeat 10 / 10 | loss 0.12\n",
      "|epoch 289 | repeat 10 / 10 | loss 0.11\n",
      "|epoch 290 | repeat 10 / 10 | loss 0.11\n",
      "|epoch 291 | repeat 10 / 10 | loss 0.11\n",
      "|epoch 292 | repeat 10 / 10 | loss 0.11\n",
      "|epoch 293 | repeat 10 / 10 | loss 0.11\n",
      "|epoch 294 | repeat 10 / 10 | loss 0.11\n",
      "|epoch 295 | repeat 10 / 10 | loss 0.12\n",
      "|epoch 296 | repeat 10 / 10 | loss 0.11\n",
      "|epoch 297 | repeat 10 / 10 | loss 0.12\n",
      "|epoch 298 | repeat 10 / 10 | loss 0.11\n",
      "|epoch 299 | repeat 10 / 10 | loss 0.11\n",
      "|epoch 300 | repeat 10 / 10 | loss 0.11\n"
     ]
    }
   ],
   "source": [
    "max_epoch = 300\n",
    "batch_size = 30\n",
    "hidden_size = 10\n",
    "learning_rate = 1.0\n",
    "\n",
    "x, t = spiral.load_data()\n",
    "model = TwoLayerNet(input_size = 2, hidden_size = hidden_size, output_size = 3)\n",
    "optimizer = SGD(lr=learning_rate)\n",
    "\n",
    "data_size = len(x)\n",
    "\n",
    "max_iters = data_size // batch_size\n",
    "total_loss = 0\n",
    "loss_count = 0\n",
    "loss_list = []\n",
    "\n",
    "for epoch in range(max_epoch):\n",
    "    idx = np.random.permutation(data_size)\n",
    "    x = x[idx]\n",
    "    t = t[idx]\n",
    "    \n",
    "    for iters in range(max_iters):\n",
    "        batch_x = x[iters*batch_size:(iters+1)*batch_size]\n",
    "        batch_t = t[iters*batch_size:(iters+1)*batch_size]\n",
    "        \n",
    "        loss = model.forward(batch_x, batch_t)\n",
    "        model.backward()\n",
    "        optimizer.update(model.params, model.grads)\n",
    "        \n",
    "        total_loss += loss\n",
    "        loss_count +=1\n",
    "        \n",
    "        if (iters+1)%10 == 0:\n",
    "            avg_loss = total_loss / loss_count\n",
    "            print('|epoch %d | repeat %d / %d | loss %.2f'\n",
    "                 % (epoch +1, iters +1, max_iters, avg_loss))\n",
    "            loss_list.append(avg_loss)\n",
    "            total_loss, loss_count = 0, 0"
   ]
  },
  {
   "cell_type": "code",
   "execution_count": 32,
   "id": "41c65163",
   "metadata": {},
   "outputs": [
    {
     "data": {
      "image/png": "[encoded data removed]",
      "text/plain": [
       "<Figure size 640x480 with 1 Axes>"
      ]
     },
     "metadata": {},
     "output_type": "display_data"
    }
   ],
   "source": [
    "plt.plot(range(max_epoch),loss_list, 'b')\n",
    "plt.xlabel('iterations (x10)')\n",
    "plt.ylabel('loss')\n",
    "plt.show()"
   ]
  },
  {
   "cell_type": "code",
   "execution_count": 33,
   "id": "baa1473c",
   "metadata": {},
   "outputs": [
    {
     "name": "stdout",
     "output_type": "stream",
     "text": [
      "| epoch 1 |  iter 1 / 10 | time 0[s] | loss 1.10\n",
      "| epoch 2 |  iter 1 / 10 | time 0[s] | loss 2.64\n",
      "| epoch 3 |  iter 1 / 10 | time 0[s] | loss 2.56\n",
      "| epoch 4 |  iter 1 / 10 | time 0[s] | loss 1.63\n",
      "| epoch 5 |  iter 1 / 10 | time 0[s] | loss 1.38\n",
      "| epoch 6 |  iter 1 / 10 | time 0[s] | loss 1.41\n",
      "| epoch 7 |  iter 1 / 10 | time 0[s] | loss 2.24\n",
      "| epoch 8 |  iter 1 / 10 | time 0[s] | loss 1.51\n",
      "| epoch 9 |  iter 1 / 10 | time 0[s] | loss 1.77\n",
      "| epoch 10 |  iter 1 / 10 | time 0[s] | loss 1.52\n",
      "| epoch 11 |  iter 1 / 10 | time 0[s] | loss 1.39\n",
      "| epoch 12 |  iter 1 / 10 | time 0[s] | loss 1.57\n",
      "| epoch 13 |  iter 1 / 10 | time 0[s] | loss 1.37\n",
      "| epoch 14 |  iter 1 / 10 | time 0[s] | loss 1.25\n",
      "| epoch 15 |  iter 1 / 10 | time 0[s] | loss 1.25\n",
      "| epoch 16 |  iter 1 / 10 | time 0[s] | loss 1.34\n",
      "| epoch 17 |  iter 1 / 10 | time 0[s] | loss 2.04\n",
      "| epoch 18 |  iter 1 / 10 | time 0[s] | loss 1.54\n",
      "| epoch 19 |  iter 1 / 10 | time 0[s] | loss 1.69\n",
      "| epoch 20 |  iter 1 / 10 | time 0[s] | loss 2.02\n",
      "| epoch 21 |  iter 1 / 10 | time 0[s] | loss 1.57\n",
      "| epoch 22 |  iter 1 / 10 | time 0[s] | loss 1.43\n",
      "| epoch 23 |  iter 1 / 10 | time 0[s] | loss 1.33\n",
      "| epoch 24 |  iter 1 / 10 | time 0[s] | loss 1.35\n",
      "| epoch 25 |  iter 1 / 10 | time 0[s] | loss 0.96\n",
      "| epoch 26 |  iter 1 / 10 | time 0[s] | loss 1.73\n",
      "| epoch 27 |  iter 1 / 10 | time 0[s] | loss 1.04\n",
      "| epoch 28 |  iter 1 / 10 | time 0[s] | loss 0.93\n",
      "| epoch 29 |  iter 1 / 10 | time 0[s] | loss 1.16\n",
      "| epoch 30 |  iter 1 / 10 | time 0[s] | loss 1.16\n",
      "| epoch 31 |  iter 1 / 10 | time 0[s] | loss 1.09\n",
      "| epoch 32 |  iter 1 / 10 | time 0[s] | loss 1.34\n",
      "| epoch 33 |  iter 1 / 10 | time 0[s] | loss 0.99\n",
      "| epoch 34 |  iter 1 / 10 | time 0[s] | loss 1.14\n",
      "| epoch 35 |  iter 1 / 10 | time 0[s] | loss 1.67\n",
      "| epoch 36 |  iter 1 / 10 | time 0[s] | loss 1.30\n",
      "| epoch 37 |  iter 1 / 10 | time 0[s] | loss 1.13\n",
      "| epoch 38 |  iter 1 / 10 | time 0[s] | loss 0.87\n",
      "| epoch 39 |  iter 1 / 10 | time 0[s] | loss 0.76\n",
      "| epoch 40 |  iter 1 / 10 | time 0[s] | loss 0.68\n",
      "| epoch 41 |  iter 1 / 10 | time 0[s] | loss 0.83\n",
      "| epoch 42 |  iter 1 / 10 | time 0[s] | loss 1.02\n",
      "| epoch 43 |  iter 1 / 10 | time 0[s] | loss 0.91\n",
      "| epoch 44 |  iter 1 / 10 | time 0[s] | loss 0.88\n",
      "| epoch 45 |  iter 1 / 10 | time 0[s] | loss 0.78\n",
      "| epoch 46 |  iter 1 / 10 | time 0[s] | loss 1.32\n",
      "| epoch 47 |  iter 1 / 10 | time 0[s] | loss 0.79\n",
      "| epoch 48 |  iter 1 / 10 | time 0[s] | loss 0.87\n",
      "| epoch 49 |  iter 1 / 10 | time 0[s] | loss 0.76\n",
      "| epoch 50 |  iter 1 / 10 | time 0[s] | loss 0.81\n",
      "| epoch 51 |  iter 1 / 10 | time 0[s] | loss 1.03\n",
      "| epoch 52 |  iter 1 / 10 | time 0[s] | loss 0.80\n",
      "| epoch 53 |  iter 1 / 10 | time 0[s] | loss 0.87\n",
      "| epoch 54 |  iter 1 / 10 | time 0[s] | loss 0.79\n",
      "| epoch 55 |  iter 1 / 10 | time 0[s] | loss 0.87\n",
      "| epoch 56 |  iter 1 / 10 | time 0[s] | loss 0.88\n",
      "| epoch 57 |  iter 1 / 10 | time 0[s] | loss 0.68\n",
      "| epoch 58 |  iter 1 / 10 | time 0[s] | loss 0.86\n",
      "| epoch 59 |  iter 1 / 10 | time 0[s] | loss 0.96\n",
      "| epoch 60 |  iter 1 / 10 | time 0[s] | loss 0.80\n",
      "| epoch 61 |  iter 1 / 10 | time 0[s] | loss 0.72\n",
      "| epoch 62 |  iter 1 / 10 | time 0[s] | loss 0.69\n",
      "| epoch 63 |  iter 1 / 10 | time 0[s] | loss 0.59\n",
      "| epoch 64 |  iter 1 / 10 | time 0[s] | loss 0.84\n",
      "| epoch 65 |  iter 1 / 10 | time 0[s] | loss 1.09\n",
      "| epoch 66 |  iter 1 / 10 | time 0[s] | loss 0.72\n",
      "| epoch 67 |  iter 1 / 10 | time 0[s] | loss 0.83\n",
      "| epoch 68 |  iter 1 / 10 | time 0[s] | loss 1.09\n",
      "| epoch 69 |  iter 1 / 10 | time 0[s] | loss 0.72\n",
      "| epoch 70 |  iter 1 / 10 | time 0[s] | loss 0.90\n",
      "| epoch 71 |  iter 1 / 10 | time 0[s] | loss 1.19\n",
      "| epoch 72 |  iter 1 / 10 | time 0[s] | loss 0.93\n",
      "| epoch 73 |  iter 1 / 10 | time 0[s] | loss 0.68\n",
      "| epoch 74 |  iter 1 / 10 | time 0[s] | loss 0.88\n",
      "| epoch 75 |  iter 1 / 10 | time 0[s] | loss 0.94\n",
      "| epoch 76 |  iter 1 / 10 | time 0[s] | loss 0.70\n",
      "| epoch 77 |  iter 1 / 10 | time 0[s] | loss 0.89\n",
      "| epoch 78 |  iter 1 / 10 | time 0[s] | loss 0.82\n",
      "| epoch 79 |  iter 1 / 10 | time 0[s] | loss 0.96\n",
      "| epoch 80 |  iter 1 / 10 | time 0[s] | loss 0.90\n",
      "| epoch 81 |  iter 1 / 10 | time 0[s] | loss 0.79\n",
      "| epoch 82 |  iter 1 / 10 | time 0[s] | loss 0.57\n",
      "| epoch 83 |  iter 1 / 10 | time 0[s] | loss 0.84\n",
      "| epoch 84 |  iter 1 / 10 | time 0[s] | loss 0.54\n",
      "| epoch 85 |  iter 1 / 10 | time 0[s] | loss 0.59\n",
      "| epoch 86 |  iter 1 / 10 | time 0[s] | loss 1.10\n",
      "| epoch 87 |  iter 1 / 10 | time 0[s] | loss 0.74\n",
      "| epoch 88 |  iter 1 / 10 | time 0[s] | loss 0.36\n",
      "| epoch 89 |  iter 1 / 10 | time 0[s] | loss 0.38\n",
      "| epoch 90 |  iter 1 / 10 | time 0[s] | loss 0.62\n",
      "| epoch 91 |  iter 1 / 10 | time 0[s] | loss 0.54\n",
      "| epoch 92 |  iter 1 / 10 | time 0[s] | loss 0.27\n",
      "| epoch 93 |  iter 1 / 10 | time 0[s] | loss 0.27\n",
      "| epoch 94 |  iter 1 / 10 | time 0[s] | loss 0.30\n",
      "| epoch 95 |  iter 1 / 10 | time 0[s] | loss 0.28\n",
      "| epoch 96 |  iter 1 / 10 | time 0[s] | loss 0.30\n",
      "| epoch 97 |  iter 1 / 10 | time 0[s] | loss 0.33\n",
      "| epoch 98 |  iter 1 / 10 | time 0[s] | loss 0.24\n",
      "| epoch 99 |  iter 1 / 10 | time 0[s] | loss 0.38\n",
      "| epoch 100 |  iter 1 / 10 | time 0[s] | loss 0.22\n",
      "| epoch 101 |  iter 1 / 10 | time 0[s] | loss 0.43\n",
      "| epoch 102 |  iter 1 / 10 | time 0[s] | loss 0.32\n",
      "| epoch 103 |  iter 1 / 10 | time 0[s] | loss 0.28\n",
      "| epoch 104 |  iter 1 / 10 | time 0[s] | loss 0.71\n",
      "| epoch 105 |  iter 1 / 10 | time 0[s] | loss 0.34\n",
      "| epoch 106 |  iter 1 / 10 | time 0[s] | loss 0.29\n",
      "| epoch 107 |  iter 1 / 10 | time 0[s] | loss 0.22\n",
      "| epoch 108 |  iter 1 / 10 | time 0[s] | loss 0.12\n",
      "| epoch 109 |  iter 1 / 10 | time 0[s] | loss 0.17\n",
      "| epoch 110 |  iter 1 / 10 | time 0[s] | loss 0.32\n",
      "| epoch 111 |  iter 1 / 10 | time 0[s] | loss 0.21\n",
      "| epoch 112 |  iter 1 / 10 | time 0[s] | loss 0.27\n",
      "| epoch 113 |  iter 1 / 10 | time 0[s] | loss 0.38\n",
      "| epoch 114 |  iter 1 / 10 | time 0[s] | loss 0.22\n",
      "| epoch 115 |  iter 1 / 10 | time 0[s] | loss 0.34\n",
      "| epoch 116 |  iter 1 / 10 | time 0[s] | loss 0.14\n",
      "| epoch 117 |  iter 1 / 10 | time 0[s] | loss 0.28\n",
      "| epoch 118 |  iter 1 / 10 | time 0[s] | loss 0.16\n",
      "| epoch 119 |  iter 1 / 10 | time 0[s] | loss 0.25\n",
      "| epoch 120 |  iter 1 / 10 | time 0[s] | loss 0.27\n",
      "| epoch 121 |  iter 1 / 10 | time 0[s] | loss 0.54\n",
      "| epoch 122 |  iter 1 / 10 | time 0[s] | loss 0.14\n",
      "| epoch 123 |  iter 1 / 10 | time 0[s] | loss 0.23\n",
      "| epoch 124 |  iter 1 / 10 | time 0[s] | loss 0.15\n",
      "| epoch 125 |  iter 1 / 10 | time 0[s] | loss 0.21\n",
      "| epoch 126 |  iter 1 / 10 | time 0[s] | loss 0.17\n",
      "| epoch 127 |  iter 1 / 10 | time 0[s] | loss 0.15\n",
      "| epoch 128 |  iter 1 / 10 | time 0[s] | loss 0.16\n",
      "| epoch 129 |  iter 1 / 10 | time 0[s] | loss 0.16\n",
      "| epoch 130 |  iter 1 / 10 | time 0[s] | loss 0.28\n",
      "| epoch 131 |  iter 1 / 10 | time 0[s] | loss 0.13\n",
      "| epoch 132 |  iter 1 / 10 | time 0[s] | loss 0.09\n",
      "| epoch 133 |  iter 1 / 10 | time 0[s] | loss 0.15\n",
      "| epoch 134 |  iter 1 / 10 | time 0[s] | loss 0.14\n",
      "| epoch 135 |  iter 1 / 10 | time 0[s] | loss 0.16\n",
      "| epoch 136 |  iter 1 / 10 | time 0[s] | loss 0.41\n",
      "| epoch 137 |  iter 1 / 10 | time 0[s] | loss 0.15\n",
      "| epoch 138 |  iter 1 / 10 | time 0[s] | loss 0.20\n",
      "| epoch 139 |  iter 1 / 10 | time 0[s] | loss 0.19\n",
      "| epoch 140 |  iter 1 / 10 | time 0[s] | loss 0.10\n",
      "| epoch 141 |  iter 1 / 10 | time 0[s] | loss 0.15\n",
      "| epoch 142 |  iter 1 / 10 | time 0[s] | loss 0.08\n",
      "| epoch 143 |  iter 1 / 10 | time 0[s] | loss 0.14\n",
      "| epoch 144 |  iter 1 / 10 | time 0[s] | loss 0.15\n",
      "| epoch 145 |  iter 1 / 10 | time 0[s] | loss 0.14\n",
      "| epoch 146 |  iter 1 / 10 | time 0[s] | loss 0.24\n",
      "| epoch 147 |  iter 1 / 10 | time 0[s] | loss 0.09\n",
      "| epoch 148 |  iter 1 / 10 | time 0[s] | loss 0.12\n",
      "| epoch 149 |  iter 1 / 10 | time 0[s] | loss 0.13\n",
      "| epoch 150 |  iter 1 / 10 | time 0[s] | loss 0.13\n",
      "| epoch 151 |  iter 1 / 10 | time 0[s] | loss 0.10\n",
      "| epoch 152 |  iter 1 / 10 | time 0[s] | loss 0.16\n",
      "| epoch 153 |  iter 1 / 10 | time 0[s] | loss 0.22\n",
      "| epoch 154 |  iter 1 / 10 | time 0[s] | loss 0.10\n",
      "| epoch 155 |  iter 1 / 10 | time 0[s] | loss 0.12\n",
      "| epoch 156 |  iter 1 / 10 | time 0[s] | loss 0.09\n",
      "| epoch 157 |  iter 1 / 10 | time 0[s] | loss 0.11\n",
      "| epoch 158 |  iter 1 / 10 | time 0[s] | loss 0.07\n",
      "| epoch 159 |  iter 1 / 10 | time 0[s] | loss 0.11\n",
      "| epoch 160 |  iter 1 / 10 | time 0[s] | loss 0.14\n",
      "| epoch 161 |  iter 1 / 10 | time 0[s] | loss 0.10\n",
      "| epoch 162 |  iter 1 / 10 | time 0[s] | loss 0.13\n",
      "| epoch 163 |  iter 1 / 10 | time 0[s] | loss 0.11\n",
      "| epoch 164 |  iter 1 / 10 | time 0[s] | loss 0.20\n",
      "| epoch 165 |  iter 1 / 10 | time 0[s] | loss 0.07\n",
      "| epoch 166 |  iter 1 / 10 | time 0[s] | loss 0.09\n",
      "| epoch 167 |  iter 1 / 10 | time 0[s] | loss 0.08\n",
      "| epoch 168 |  iter 1 / 10 | time 0[s] | loss 0.10\n",
      "| epoch 169 |  iter 1 / 10 | time 0[s] | loss 0.07\n",
      "| epoch 170 |  iter 1 / 10 | time 0[s] | loss 0.12\n",
      "| epoch 171 |  iter 1 / 10 | time 0[s] | loss 0.10\n",
      "| epoch 172 |  iter 1 / 10 | time 0[s] | loss 0.08\n",
      "| epoch 173 |  iter 1 / 10 | time 0[s] | loss 0.09\n",
      "| epoch 174 |  iter 1 / 10 | time 0[s] | loss 0.08\n",
      "| epoch 175 |  iter 1 / 10 | time 0[s] | loss 0.08\n",
      "| epoch 176 |  iter 1 / 10 | time 0[s] | loss 0.13\n",
      "| epoch 177 |  iter 1 / 10 | time 0[s] | loss 0.05\n",
      "| epoch 178 |  iter 1 / 10 | time 0[s] | loss 0.08\n",
      "| epoch 179 |  iter 1 / 10 | time 0[s] | loss 0.09\n",
      "| epoch 180 |  iter 1 / 10 | time 0[s] | loss 0.15\n",
      "| epoch 181 |  iter 1 / 10 | time 0[s] | loss 0.06\n",
      "| epoch 182 |  iter 1 / 10 | time 0[s] | loss 0.06\n",
      "| epoch 183 |  iter 1 / 10 | time 0[s] | loss 0.04\n",
      "| epoch 184 |  iter 1 / 10 | time 0[s] | loss 0.18\n",
      "| epoch 185 |  iter 1 / 10 | time 0[s] | loss 0.12\n",
      "| epoch 186 |  iter 1 / 10 | time 0[s] | loss 0.15\n",
      "| epoch 187 |  iter 1 / 10 | time 0[s] | loss 0.06\n",
      "| epoch 188 |  iter 1 / 10 | time 0[s] | loss 0.24\n",
      "| epoch 189 |  iter 1 / 10 | time 0[s] | loss 0.11\n",
      "| epoch 190 |  iter 1 / 10 | time 0[s] | loss 0.08\n",
      "| epoch 191 |  iter 1 / 10 | time 0[s] | loss 0.12\n",
      "| epoch 192 |  iter 1 / 10 | time 0[s] | loss 0.10\n",
      "| epoch 193 |  iter 1 / 10 | time 0[s] | loss 0.06\n",
      "| epoch 194 |  iter 1 / 10 | time 0[s] | loss 0.10\n",
      "| epoch 195 |  iter 1 / 10 | time 0[s] | loss 0.08\n",
      "| epoch 196 |  iter 1 / 10 | time 0[s] | loss 0.14\n",
      "| epoch 197 |  iter 1 / 10 | time 0[s] | loss 0.08\n",
      "| epoch 198 |  iter 1 / 10 | time 0[s] | loss 0.05\n",
      "| epoch 199 |  iter 1 / 10 | time 0[s] | loss 0.09\n",
      "| epoch 200 |  iter 1 / 10 | time 0[s] | loss 0.08\n",
      "| epoch 201 |  iter 1 / 10 | time 0[s] | loss 0.09\n",
      "| epoch 202 |  iter 1 / 10 | time 0[s] | loss 0.09\n",
      "| epoch 203 |  iter 1 / 10 | time 0[s] | loss 0.20\n",
      "| epoch 204 |  iter 1 / 10 | time 0[s] | loss 0.08\n",
      "| epoch 205 |  iter 1 / 10 | time 0[s] | loss 0.06\n",
      "| epoch 206 |  iter 1 / 10 | time 0[s] | loss 0.09\n",
      "| epoch 207 |  iter 1 / 10 | time 0[s] | loss 0.11\n",
      "| epoch 208 |  iter 1 / 10 | time 0[s] | loss 0.09\n",
      "| epoch 209 |  iter 1 / 10 | time 0[s] | loss 0.06\n",
      "| epoch 210 |  iter 1 / 10 | time 0[s] | loss 0.10\n",
      "| epoch 211 |  iter 1 / 10 | time 0[s] | loss 0.07\n",
      "| epoch 212 |  iter 1 / 10 | time 0[s] | loss 0.19\n",
      "| epoch 213 |  iter 1 / 10 | time 0[s] | loss 0.20\n",
      "| epoch 214 |  iter 1 / 10 | time 0[s] | loss 0.07\n",
      "| epoch 215 |  iter 1 / 10 | time 0[s] | loss 0.12\n",
      "| epoch 216 |  iter 1 / 10 | time 0[s] | loss 0.10\n",
      "| epoch 217 |  iter 1 / 10 | time 0[s] | loss 0.10\n",
      "| epoch 218 |  iter 1 / 10 | time 0[s] | loss 0.06\n",
      "| epoch 219 |  iter 1 / 10 | time 0[s] | loss 0.07\n",
      "| epoch 220 |  iter 1 / 10 | time 0[s] | loss 0.07\n",
      "| epoch 221 |  iter 1 / 10 | time 0[s] | loss 0.05\n",
      "| epoch 222 |  iter 1 / 10 | time 0[s] | loss 0.12\n",
      "| epoch 223 |  iter 1 / 10 | time 0[s] | loss 0.07\n",
      "| epoch 224 |  iter 1 / 10 | time 0[s] | loss 0.07\n",
      "| epoch 225 |  iter 1 / 10 | time 0[s] | loss 0.09\n",
      "| epoch 226 |  iter 1 / 10 | time 0[s] | loss 0.07\n",
      "| epoch 227 |  iter 1 / 10 | time 0[s] | loss 0.08\n",
      "| epoch 228 |  iter 1 / 10 | time 0[s] | loss 0.07\n",
      "| epoch 229 |  iter 1 / 10 | time 0[s] | loss 0.07\n",
      "| epoch 230 |  iter 1 / 10 | time 0[s] | loss 0.07\n",
      "| epoch 231 |  iter 1 / 10 | time 0[s] | loss 0.09\n",
      "| epoch 232 |  iter 1 / 10 | time 0[s] | loss 0.09\n",
      "| epoch 233 |  iter 1 / 10 | time 0[s] | loss 0.10\n",
      "| epoch 234 |  iter 1 / 10 | time 0[s] | loss 0.08\n",
      "| epoch 235 |  iter 1 / 10 | time 0[s] | loss 0.09\n",
      "| epoch 236 |  iter 1 / 10 | time 0[s] | loss 0.08\n",
      "| epoch 237 |  iter 1 / 10 | time 0[s] | loss 0.04\n",
      "| epoch 238 |  iter 1 / 10 | time 0[s] | loss 0.10\n",
      "| epoch 239 |  iter 1 / 10 | time 0[s] | loss 0.07\n",
      "| epoch 240 |  iter 1 / 10 | time 0[s] | loss 0.06\n",
      "| epoch 241 |  iter 1 / 10 | time 0[s] | loss 0.14\n",
      "| epoch 242 |  iter 1 / 10 | time 0[s] | loss 0.05\n",
      "| epoch 243 |  iter 1 / 10 | time 0[s] | loss 0.05\n",
      "| epoch 244 |  iter 1 / 10 | time 0[s] | loss 0.07\n",
      "| epoch 245 |  iter 1 / 10 | time 0[s] | loss 0.06\n",
      "| epoch 246 |  iter 1 / 10 | time 0[s] | loss 0.06\n",
      "| epoch 247 |  iter 1 / 10 | time 0[s] | loss 0.09\n",
      "| epoch 248 |  iter 1 / 10 | time 0[s] | loss 0.06\n",
      "| epoch 249 |  iter 1 / 10 | time 0[s] | loss 0.16\n",
      "| epoch 250 |  iter 1 / 10 | time 0[s] | loss 0.05\n",
      "| epoch 251 |  iter 1 / 10 | time 0[s] | loss 0.13\n",
      "| epoch 252 |  iter 1 / 10 | time 0[s] | loss 0.07\n",
      "| epoch 253 |  iter 1 / 10 | time 0[s] | loss 0.11\n",
      "| epoch 254 |  iter 1 / 10 | time 0[s] | loss 0.04\n",
      "| epoch 255 |  iter 1 / 10 | time 0[s] | loss 0.04\n",
      "| epoch 256 |  iter 1 / 10 | time 0[s] | loss 0.09\n",
      "| epoch 257 |  iter 1 / 10 | time 0[s] | loss 0.06\n",
      "| epoch 258 |  iter 1 / 10 | time 0[s] | loss 0.05\n",
      "| epoch 259 |  iter 1 / 10 | time 0[s] | loss 0.09\n",
      "| epoch 260 |  iter 1 / 10 | time 0[s] | loss 0.15\n",
      "| epoch 261 |  iter 1 / 10 | time 0[s] | loss 0.11\n",
      "| epoch 262 |  iter 1 / 10 | time 0[s] | loss 0.05\n",
      "| epoch 263 |  iter 1 / 10 | time 0[s] | loss 0.05\n",
      "| epoch 264 |  iter 1 / 10 | time 0[s] | loss 0.05\n",
      "| epoch 265 |  iter 1 / 10 | time 0[s] | loss 0.10\n",
      "| epoch 266 |  iter 1 / 10 | time 0[s] | loss 0.07\n",
      "| epoch 267 |  iter 1 / 10 | time 0[s] | loss 0.08\n",
      "| epoch 268 |  iter 1 / 10 | time 0[s] | loss 0.04\n",
      "| epoch 269 |  iter 1 / 10 | time 0[s] | loss 0.08\n",
      "| epoch 270 |  iter 1 / 10 | time 0[s] | loss 0.04\n",
      "| epoch 271 |  iter 1 / 10 | time 0[s] | loss 0.07\n",
      "| epoch 272 |  iter 1 / 10 | time 0[s] | loss 0.09\n",
      "| epoch 273 |  iter 1 / 10 | time 0[s] | loss 0.06\n",
      "| epoch 274 |  iter 1 / 10 | time 0[s] | loss 0.09\n",
      "| epoch 275 |  iter 1 / 10 | time 0[s] | loss 0.07\n",
      "| epoch 276 |  iter 1 / 10 | time 0[s] | loss 0.05\n",
      "| epoch 277 |  iter 1 / 10 | time 0[s] | loss 0.18\n",
      "| epoch 278 |  iter 1 / 10 | time 0[s] | loss 0.29\n",
      "| epoch 279 |  iter 1 / 10 | time 0[s] | loss 0.08\n",
      "| epoch 280 |  iter 1 / 10 | time 0[s] | loss 0.05\n",
      "| epoch 281 |  iter 1 / 10 | time 0[s] | loss 0.08\n",
      "| epoch 282 |  iter 1 / 10 | time 0[s] | loss 0.05\n",
      "| epoch 283 |  iter 1 / 10 | time 0[s] | loss 0.09\n",
      "| epoch 284 |  iter 1 / 10 | time 0[s] | loss 0.07\n",
      "| epoch 285 |  iter 1 / 10 | time 0[s] | loss 0.07\n",
      "| epoch 286 |  iter 1 / 10 | time 0[s] | loss 0.13\n",
      "| epoch 287 |  iter 1 / 10 | time 0[s] | loss 0.03\n",
      "| epoch 288 |  iter 1 / 10 | time 0[s] | loss 0.07\n",
      "| epoch 289 |  iter 1 / 10 | time 0[s] | loss 0.09\n",
      "| epoch 290 |  iter 1 / 10 | time 0[s] | loss 0.07\n",
      "| epoch 291 |  iter 1 / 10 | time 0[s] | loss 0.07\n",
      "| epoch 292 |  iter 1 / 10 | time 0[s] | loss 0.09\n",
      "| epoch 293 |  iter 1 / 10 | time 0[s] | loss 0.06\n",
      "| epoch 294 |  iter 1 / 10 | time 0[s] | loss 0.11\n",
      "| epoch 295 |  iter 1 / 10 | time 0[s] | loss 0.05\n",
      "| epoch 296 |  iter 1 / 10 | time 0[s] | loss 0.10\n",
      "| epoch 297 |  iter 1 / 10 | time 0[s] | loss 0.07\n",
      "| epoch 298 |  iter 1 / 10 | time 0[s] | loss 0.09\n",
      "| epoch 299 |  iter 1 / 10 | time 0[s] | loss 0.07\n",
      "| epoch 300 |  iter 1 / 10 | time 0[s] | loss 0.04\n"
     ]
    },
    {
     "data": {
      "image/png": "[encoded data removed]",
      "text/plain": [
       "<Figure size 640x480 with 1 Axes>"
      ]
     },
     "metadata": {},
     "output_type": "display_data"
    }
   ],
   "source": [
    "from common.trainer import Trainer\n",
    "\n",
    "max_epoch = 300\n",
    "batch_size = 30\n",
    "hidden_size = 10\n",
    "learning_rate = 10.\n",
    "x, t = spiral.load_data()\n",
    "model = TwoLayerNet(input_size = 2, hidden_size = hidden_size, output_size = 3)\n",
    "optimizer = SGD(lr=learning_rate)\n",
    "\n",
    "trainer = Trainer(model, optimizer)\n",
    "trainer.fit(x, t, max_epoch, batch_size, eval_interval=10)\n",
    "trainer.plot()"
   ]
  },
  {
   "cell_type": "markdown",
   "id": "ba1fe670",
   "metadata": {},
   "source": [
    "# 1.5 계산 고속화"
   ]
  },
  {
   "cell_type": "code",
   "execution_count": 34,
   "id": "1432d20f",
   "metadata": {},
   "outputs": [
    {
     "data": {
      "text/plain": [
       "dtype('float64')"
      ]
     },
     "execution_count": 34,
     "metadata": {},
     "output_type": "execute_result"
    }
   ],
   "source": [
    "a = np.random.randn(3)\n",
    "a.dtype"
   ]
  },
  {
   "cell_type": "code",
   "execution_count": 35,
   "id": "32779f6a",
   "metadata": {},
   "outputs": [
    {
     "data": {
      "text/plain": [
       "dtype('float32')"
      ]
     },
     "execution_count": 35,
     "metadata": {},
     "output_type": "execute_result"
    }
   ],
   "source": [
    "b = np.random.randn(3).astype(np.float32)\n",
    "b.dtype"
   ]
  },
  {
   "cell_type": "code",
   "execution_count": 36,
   "id": "0d1424a4",
   "metadata": {},
   "outputs": [
    {
     "data": {
      "text/plain": [
       "dtype('float32')"
      ]
     },
     "execution_count": 36,
     "metadata": {},
     "output_type": "execute_result"
    }
   ],
   "source": [
    "c = np. random.randn(3).astype('f')\n",
    "c.dtype"
   ]
  },
  {
   "cell_type": "code",
   "execution_count": 37,
   "id": "5c95b2bc",
   "metadata": {},
   "outputs": [
    {
     "data": {
      "text/plain": [
       "\"\\nimport cupy as cp\\nx = cp.arrange(6).reshape(2,3).astype('f')\\nprint(x, x.sum(axis=1))\\n\""
      ]
     },
     "execution_count": 37,
     "metadata": {},
     "output_type": "execute_result"
    }
   ],
   "source": [
    "'''\n",
    "import cupy as cp\n",
    "x = cp.arrange(6).reshape(2,3).astype('f')\n",
    "print(x, x.sum(axis=1))\n",
    "'''"
   ]
  }
 ],
 "metadata": {
  "kernelspec": {
   "display_name": "Python 3 (ipykernel)",
   "language": "python",
   "name": "python3"
  },
  "language_info": {
   "codemirror_mode": {
    "name": "ipython",
    "version": 3
   },
   "file_extension": ".py",
   "mimetype": "text/x-python",
   "name": "python",
   "nbconvert_exporter": "python",
   "pygments_lexer": "ipython3",
   "version": "3.11.4"
  }
 },
 "nbformat": 4,
 "nbformat_minor": 5
}
