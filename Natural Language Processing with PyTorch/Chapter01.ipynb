{
  "nbformat": 4,
  "nbformat_minor": 0,
  "metadata": {
    "colab": {
      "provenance": [],
      "gpuType": "T4"
    },
    "kernelspec": {
      "name": "python3",
      "display_name": "Python 3"
    },
    "language_info": {
      "name": "python"
    },
    "accelerator": "GPU"
  },
  "cells": [
    {
      "cell_type": "markdown",
      "source": [
        "# 1.1 지도 학습"
      ],
      "metadata": {
        "id": "NNRShXU_YcW7"
      }
    },
    {
      "cell_type": "markdown",
      "source": [
        "# 1.2 샘플과 타깃의 인코딩"
      ],
      "metadata": {
        "id": "JoMFcdBNY10n"
      }
    },
    {
      "cell_type": "code",
      "source": [
        "from sklearn.feature_extraction.text import CountVectorizer\n",
        "import seaborn as sns\n",
        "\n",
        "corpus = ['Time flies like an arrow.',\n",
        "          'Fruit flies like a banana.']\n",
        "one_hot_vectorizer = CountVectorizer(binary = True)\n",
        "one_hot = one_hot_vectorizer.fit_transform(corpus).toarray()\n",
        "vocab = one_hot_vectorizer.get_feature_names_out()\n",
        "sns.heatmap(one_hot, annot = True,\n",
        "            cbar = False, xticklabels = vocab,\n",
        "            yticklabels=['Sentence 1', 'Sentence2'])"
      ],
      "metadata": {
        "colab": {
          "base_uri": "https://localhost:8080/",
          "height": 448
        },
        "id": "MM5YJJ4wYieF",
        "outputId": "5343895d-5165-42bf-a36f-b09afe69bc21"
      },
      "execution_count": 1,
      "outputs": [
        {
          "output_type": "execute_result",
          "data": {
            "text/plain": [
              "<Axes: >"
            ]
          },
          "metadata": {},
          "execution_count": 1
        },
        {
          "output_type": "display_data",
          "data": {
            "text/plain": [
              "<Figure size 640x480 with 1 Axes>"
            ],
            "image/png": "[encoded data removed]"
          },
          "metadata": {}
        }
      ]
    },
    {
      "cell_type": "code",
      "source": [
        "from sklearn.feature_extraction.text import TfidfVectorizer\n",
        "\n",
        "tfidf_vectorizer = TfidfVectorizer()\n",
        "tfidf = tfidf_vectorizer.fit_transform(corpus).toarray()\n",
        "sns.heatmap(tfidf, annot =True, cbar = False, xticklabels = vocab,\n",
        "            yticklabels = ['Sentence 1', 'Sentence 2'])"
      ],
      "metadata": {
        "colab": {
          "base_uri": "https://localhost:8080/",
          "height": 448
        },
        "id": "fopnoUIAaAbs",
        "outputId": "533822d0-b262-4c98-91c7-90680fdfdebd"
      },
      "execution_count": 2,
      "outputs": [
        {
          "output_type": "execute_result",
          "data": {
            "text/plain": [
              "<Axes: >"
            ]
          },
          "metadata": {},
          "execution_count": 2
        },
        {
          "output_type": "display_data",
          "data": {
            "text/plain": [
              "<Figure size 640x480 with 1 Axes>"
            ],
            "image/png": "[encoded data removed]"
          },
          "metadata": {}
        }
      ]
    },
    {
      "cell_type": "markdown",
      "source": [
        "# 1.3 계산 그래프"
      ],
      "metadata": {
        "id": "IN_dpN9Kc3KK"
      }
    },
    {
      "cell_type": "markdown",
      "source": [
        "# 1.4 파이토치 기초"
      ],
      "metadata": {
        "id": "6ktEiUZBdUfU"
      }
    },
    {
      "cell_type": "code",
      "source": [
        "def describe(x):\n",
        "  print(\"type: {}\".format(x.type()))\n",
        "  print(\"size: {}\".format(x.shape))\n",
        "  print(\"value: \\n{}\".format(x))"
      ],
      "metadata": {
        "id": "6LZqllNLb-Sz"
      },
      "execution_count": 3,
      "outputs": []
    },
    {
      "cell_type": "code",
      "source": [
        "import torch\n",
        "describe(torch.Tensor(2,3))"
      ],
      "metadata": {
        "colab": {
          "base_uri": "https://localhost:8080/"
        },
        "id": "vOuurQE_e87t",
        "outputId": "02ce2326-a62b-48c6-986c-6759e895ac54"
      },
      "execution_count": 4,
      "outputs": [
        {
          "output_type": "stream",
          "name": "stdout",
          "text": [
            "type: torch.FloatTensor\n",
            "size: torch.Size([2, 3])\n",
            "value: \n",
            "tensor([[-3.0191e-12,  4.3236e-41, -3.0191e-12],\n",
            "        [ 4.3236e-41, -4.7871e+28,  3.1249e-41]])\n"
          ]
        }
      ]
    },
    {
      "cell_type": "code",
      "source": [
        "describe(torch.rand(2,3))\n",
        "describe(torch.randn(2,3))"
      ],
      "metadata": {
        "colab": {
          "base_uri": "https://localhost:8080/"
        },
        "id": "n8x-1IWrfJSc",
        "outputId": "be017a23-9558-4a0a-9a58-2f0ba042b962"
      },
      "execution_count": 5,
      "outputs": [
        {
          "output_type": "stream",
          "name": "stdout",
          "text": [
            "type: torch.FloatTensor\n",
            "size: torch.Size([2, 3])\n",
            "value: \n",
            "tensor([[0.4913, 0.4640, 0.8907],\n",
            "        [0.8278, 0.2331, 0.6888]])\n",
            "type: torch.FloatTensor\n",
            "size: torch.Size([2, 3])\n",
            "value: \n",
            "tensor([[-0.3464, -0.8206,  0.6031],\n",
            "        [-0.5622, -1.2429,  1.5931]])\n"
          ]
        }
      ]
    },
    {
      "cell_type": "code",
      "source": [
        "describe(torch.zeros(2,3))\n",
        "x = torch.ones(2,3)\n",
        "describe(x)\n",
        "x.fill_(5)\n",
        "describe(x)"
      ],
      "metadata": {
        "colab": {
          "base_uri": "https://localhost:8080/"
        },
        "id": "CSci2f5Lfil9",
        "outputId": "4defacf4-db3b-48cf-99ec-730b9de383b9"
      },
      "execution_count": 6,
      "outputs": [
        {
          "output_type": "stream",
          "name": "stdout",
          "text": [
            "type: torch.FloatTensor\n",
            "size: torch.Size([2, 3])\n",
            "value: \n",
            "tensor([[0., 0., 0.],\n",
            "        [0., 0., 0.]])\n",
            "type: torch.FloatTensor\n",
            "size: torch.Size([2, 3])\n",
            "value: \n",
            "tensor([[1., 1., 1.],\n",
            "        [1., 1., 1.]])\n",
            "type: torch.FloatTensor\n",
            "size: torch.Size([2, 3])\n",
            "value: \n",
            "tensor([[5., 5., 5.],\n",
            "        [5., 5., 5.]])\n"
          ]
        }
      ]
    },
    {
      "cell_type": "code",
      "source": [
        "x = torch.Tensor([[1,2,3],\n",
        "                 [4,5,6]])\n",
        "describe(x)"
      ],
      "metadata": {
        "colab": {
          "base_uri": "https://localhost:8080/"
        },
        "id": "c2-g20u1fyuA",
        "outputId": "341653d1-8c0b-4be1-8f8d-065d6f363fde"
      },
      "execution_count": 7,
      "outputs": [
        {
          "output_type": "stream",
          "name": "stdout",
          "text": [
            "type: torch.FloatTensor\n",
            "size: torch.Size([2, 3])\n",
            "value: \n",
            "tensor([[1., 2., 3.],\n",
            "        [4., 5., 6.]])\n"
          ]
        }
      ]
    },
    {
      "cell_type": "code",
      "source": [
        "import numpy as np\n",
        "npy = np.random.rand(2,3)\n",
        "describe(torch.from_numpy(npy))"
      ],
      "metadata": {
        "colab": {
          "base_uri": "https://localhost:8080/"
        },
        "id": "oFCRhgfrgDKT",
        "outputId": "4f9289e8-1e00-4477-dee9-71d1733311d8"
      },
      "execution_count": 8,
      "outputs": [
        {
          "output_type": "stream",
          "name": "stdout",
          "text": [
            "type: torch.DoubleTensor\n",
            "size: torch.Size([2, 3])\n",
            "value: \n",
            "tensor([[0.8834, 0.1931, 0.4971],\n",
            "        [0.4345, 0.1226, 0.2358]], dtype=torch.float64)\n"
          ]
        }
      ]
    },
    {
      "cell_type": "code",
      "source": [
        "x = torch.FloatTensor([[1,2,3],\n",
        "                       [4,5,6]])\n",
        "describe(x)"
      ],
      "metadata": {
        "colab": {
          "base_uri": "https://localhost:8080/"
        },
        "id": "9pFjcgcGgYBm",
        "outputId": "69d0d85c-2667-4c0e-b79d-724667e5ef7b"
      },
      "execution_count": 9,
      "outputs": [
        {
          "output_type": "stream",
          "name": "stdout",
          "text": [
            "type: torch.FloatTensor\n",
            "size: torch.Size([2, 3])\n",
            "value: \n",
            "tensor([[1., 2., 3.],\n",
            "        [4., 5., 6.]])\n"
          ]
        }
      ]
    },
    {
      "cell_type": "code",
      "source": [
        "x = x.long()\n",
        "describe(x)"
      ],
      "metadata": {
        "colab": {
          "base_uri": "https://localhost:8080/"
        },
        "id": "AcYGB5BDg2GX",
        "outputId": "4f492ed4-761f-4086-b87e-fbc3f0799793"
      },
      "execution_count": 10,
      "outputs": [
        {
          "output_type": "stream",
          "name": "stdout",
          "text": [
            "type: torch.LongTensor\n",
            "size: torch.Size([2, 3])\n",
            "value: \n",
            "tensor([[1, 2, 3],\n",
            "        [4, 5, 6]])\n"
          ]
        }
      ]
    },
    {
      "cell_type": "code",
      "source": [
        "x = torch.tensor([[1,2,3],\n",
        "                  [4,5,6]], dtype = torch.int64)\n",
        "describe(x)"
      ],
      "metadata": {
        "colab": {
          "base_uri": "https://localhost:8080/"
        },
        "id": "PCJM-T3tg7x8",
        "outputId": "961631e7-ee10-451e-92e5-b1e1f5b22bff"
      },
      "execution_count": 11,
      "outputs": [
        {
          "output_type": "stream",
          "name": "stdout",
          "text": [
            "type: torch.LongTensor\n",
            "size: torch.Size([2, 3])\n",
            "value: \n",
            "tensor([[1, 2, 3],\n",
            "        [4, 5, 6]])\n"
          ]
        }
      ]
    },
    {
      "cell_type": "code",
      "source": [
        "x = x.float()\n",
        "describe(x)"
      ],
      "metadata": {
        "colab": {
          "base_uri": "https://localhost:8080/"
        },
        "id": "HeKfZ-xThGp_",
        "outputId": "1938d536-d723-4ad0-922d-7257f68b3196"
      },
      "execution_count": 12,
      "outputs": [
        {
          "output_type": "stream",
          "name": "stdout",
          "text": [
            "type: torch.FloatTensor\n",
            "size: torch.Size([2, 3])\n",
            "value: \n",
            "tensor([[1., 2., 3.],\n",
            "        [4., 5., 6.]])\n"
          ]
        }
      ]
    },
    {
      "cell_type": "code",
      "source": [
        "x = torch.randn(2,3)\n",
        "describe(x)"
      ],
      "metadata": {
        "colab": {
          "base_uri": "https://localhost:8080/"
        },
        "id": "wtIUNo8mhOR7",
        "outputId": "d4a3065c-14f8-464c-8a8f-a6a6bea15459"
      },
      "execution_count": 13,
      "outputs": [
        {
          "output_type": "stream",
          "name": "stdout",
          "text": [
            "type: torch.FloatTensor\n",
            "size: torch.Size([2, 3])\n",
            "value: \n",
            "tensor([[-1.8448,  0.5660, -0.7219],\n",
            "        [-0.5459,  0.9613, -1.7521]])\n"
          ]
        }
      ]
    },
    {
      "cell_type": "code",
      "source": [
        "describe(torch.add(x,x))"
      ],
      "metadata": {
        "colab": {
          "base_uri": "https://localhost:8080/"
        },
        "id": "oR0Ao9lEhdll",
        "outputId": "e641cacc-75d5-4ab2-caf6-5fb772ca987d"
      },
      "execution_count": 14,
      "outputs": [
        {
          "output_type": "stream",
          "name": "stdout",
          "text": [
            "type: torch.FloatTensor\n",
            "size: torch.Size([2, 3])\n",
            "value: \n",
            "tensor([[-3.6896,  1.1320, -1.4437],\n",
            "        [-1.0918,  1.9226, -3.5041]])\n"
          ]
        }
      ]
    },
    {
      "cell_type": "code",
      "source": [
        "describe(x+x)"
      ],
      "metadata": {
        "colab": {
          "base_uri": "https://localhost:8080/"
        },
        "id": "DQ6ljHJDhhh_",
        "outputId": "78e5bb72-3e3e-44bd-aace-4a8e9b430fe0"
      },
      "execution_count": 15,
      "outputs": [
        {
          "output_type": "stream",
          "name": "stdout",
          "text": [
            "type: torch.FloatTensor\n",
            "size: torch.Size([2, 3])\n",
            "value: \n",
            "tensor([[-3.6896,  1.1320, -1.4437],\n",
            "        [-1.0918,  1.9226, -3.5041]])\n"
          ]
        }
      ]
    },
    {
      "cell_type": "code",
      "source": [
        "x = torch.arange(6)\n",
        "describe(x)"
      ],
      "metadata": {
        "colab": {
          "base_uri": "https://localhost:8080/"
        },
        "id": "_bLts6u3hlh9",
        "outputId": "f222bb57-a8c6-4dbe-bc51-5d158beb7385"
      },
      "execution_count": 16,
      "outputs": [
        {
          "output_type": "stream",
          "name": "stdout",
          "text": [
            "type: torch.LongTensor\n",
            "size: torch.Size([6])\n",
            "value: \n",
            "tensor([0, 1, 2, 3, 4, 5])\n"
          ]
        }
      ]
    },
    {
      "cell_type": "code",
      "source": [
        "x = x.view(2,3)\n",
        "describe(x)"
      ],
      "metadata": {
        "colab": {
          "base_uri": "https://localhost:8080/"
        },
        "id": "apHH7OJzhwhQ",
        "outputId": "ab1c5f27-922c-4612-d767-c1d2a9fc0e6a"
      },
      "execution_count": 17,
      "outputs": [
        {
          "output_type": "stream",
          "name": "stdout",
          "text": [
            "type: torch.LongTensor\n",
            "size: torch.Size([2, 3])\n",
            "value: \n",
            "tensor([[0, 1, 2],\n",
            "        [3, 4, 5]])\n"
          ]
        }
      ]
    },
    {
      "cell_type": "code",
      "source": [
        "describe(torch.sum(x, axis = 0))"
      ],
      "metadata": {
        "colab": {
          "base_uri": "https://localhost:8080/"
        },
        "id": "NmlF03BOh0vt",
        "outputId": "5e6bcf54-64cd-4c28-a45d-97186fcb6b66"
      },
      "execution_count": 18,
      "outputs": [
        {
          "output_type": "stream",
          "name": "stdout",
          "text": [
            "type: torch.LongTensor\n",
            "size: torch.Size([3])\n",
            "value: \n",
            "tensor([3, 5, 7])\n"
          ]
        }
      ]
    },
    {
      "cell_type": "code",
      "source": [
        "describe(torch.sum(x, dim=1))"
      ],
      "metadata": {
        "colab": {
          "base_uri": "https://localhost:8080/"
        },
        "id": "Krlwsmtrh-JT",
        "outputId": "51377b83-d333-43aa-92f4-106a8bd71b53"
      },
      "execution_count": 19,
      "outputs": [
        {
          "output_type": "stream",
          "name": "stdout",
          "text": [
            "type: torch.LongTensor\n",
            "size: torch.Size([2])\n",
            "value: \n",
            "tensor([ 3, 12])\n"
          ]
        }
      ]
    },
    {
      "cell_type": "code",
      "source": [
        "describe(torch.transpose(x, 0, 1))"
      ],
      "metadata": {
        "colab": {
          "base_uri": "https://localhost:8080/"
        },
        "id": "isVRBbTciC7B",
        "outputId": "5f46f4a6-6b25-46f7-d426-3eb27d32ad17"
      },
      "execution_count": 20,
      "outputs": [
        {
          "output_type": "stream",
          "name": "stdout",
          "text": [
            "type: torch.LongTensor\n",
            "size: torch.Size([3, 2])\n",
            "value: \n",
            "tensor([[0, 3],\n",
            "        [1, 4],\n",
            "        [2, 5]])\n"
          ]
        }
      ]
    },
    {
      "cell_type": "code",
      "source": [
        "x = torch.arange(6).view(2,3)\n",
        "describe(x)"
      ],
      "metadata": {
        "colab": {
          "base_uri": "https://localhost:8080/"
        },
        "id": "0ICd52z9iIWr",
        "outputId": "24db79e4-21d4-44ab-f79c-0e41e4ad279b"
      },
      "execution_count": 21,
      "outputs": [
        {
          "output_type": "stream",
          "name": "stdout",
          "text": [
            "type: torch.LongTensor\n",
            "size: torch.Size([2, 3])\n",
            "value: \n",
            "tensor([[0, 1, 2],\n",
            "        [3, 4, 5]])\n"
          ]
        }
      ]
    },
    {
      "cell_type": "code",
      "source": [
        "describe(x[:1, :2])"
      ],
      "metadata": {
        "colab": {
          "base_uri": "https://localhost:8080/"
        },
        "id": "8xIhs4tFiRsk",
        "outputId": "b12be1f1-798a-4557-f1bc-9c46c632ef1a"
      },
      "execution_count": 22,
      "outputs": [
        {
          "output_type": "stream",
          "name": "stdout",
          "text": [
            "type: torch.LongTensor\n",
            "size: torch.Size([1, 2])\n",
            "value: \n",
            "tensor([[0, 1]])\n"
          ]
        }
      ]
    },
    {
      "cell_type": "code",
      "source": [
        "describe(x[0,1])"
      ],
      "metadata": {
        "colab": {
          "base_uri": "https://localhost:8080/"
        },
        "id": "Ox8mOEaLiWoj",
        "outputId": "e96854fc-6059-4795-dcb5-ee59914626e9"
      },
      "execution_count": 23,
      "outputs": [
        {
          "output_type": "stream",
          "name": "stdout",
          "text": [
            "type: torch.LongTensor\n",
            "size: torch.Size([])\n",
            "value: \n",
            "1\n"
          ]
        }
      ]
    },
    {
      "cell_type": "code",
      "source": [
        "indices = torch.LongTensor([0,2])\n",
        "describe(torch.index_select(x, dim = 1, index = indices))"
      ],
      "metadata": {
        "colab": {
          "base_uri": "https://localhost:8080/"
        },
        "id": "roJLH2hLicgq",
        "outputId": "a64ea367-36b7-44b9-b996-2da3a538ef9a"
      },
      "execution_count": 24,
      "outputs": [
        {
          "output_type": "stream",
          "name": "stdout",
          "text": [
            "type: torch.LongTensor\n",
            "size: torch.Size([2, 2])\n",
            "value: \n",
            "tensor([[0, 2],\n",
            "        [3, 5]])\n"
          ]
        }
      ]
    },
    {
      "cell_type": "code",
      "source": [
        "indices = torch.LongTensor([0,0])\n",
        "describe(torch.index_select(x, dim = 0, index = indices))"
      ],
      "metadata": {
        "colab": {
          "base_uri": "https://localhost:8080/"
        },
        "id": "QpWoQZONit87",
        "outputId": "1ed86eac-b588-4ae4-c2e6-3d4af62352fb"
      },
      "execution_count": 25,
      "outputs": [
        {
          "output_type": "stream",
          "name": "stdout",
          "text": [
            "type: torch.LongTensor\n",
            "size: torch.Size([2, 3])\n",
            "value: \n",
            "tensor([[0, 1, 2],\n",
            "        [0, 1, 2]])\n"
          ]
        }
      ]
    },
    {
      "cell_type": "code",
      "source": [
        "row_indices = torch.arange(2).long()\n",
        "col_indices = torch.LongTensor([0,1])\n",
        "describe(x[row_indices, col_indices])"
      ],
      "metadata": {
        "colab": {
          "base_uri": "https://localhost:8080/"
        },
        "id": "iXS9tVGZi6bX",
        "outputId": "4cf3317f-c712-4337-89ac-c4602fc33a3e"
      },
      "execution_count": 26,
      "outputs": [
        {
          "output_type": "stream",
          "name": "stdout",
          "text": [
            "type: torch.LongTensor\n",
            "size: torch.Size([2])\n",
            "value: \n",
            "tensor([0, 4])\n"
          ]
        }
      ]
    },
    {
      "cell_type": "code",
      "source": [
        "x = torch.arange(6).view(2,3)\n",
        "describe(x)"
      ],
      "metadata": {
        "colab": {
          "base_uri": "https://localhost:8080/"
        },
        "id": "0JcNtLskjUpS",
        "outputId": "a0945d18-95c3-408f-ee75-b5c0844f8f7e"
      },
      "execution_count": 27,
      "outputs": [
        {
          "output_type": "stream",
          "name": "stdout",
          "text": [
            "type: torch.LongTensor\n",
            "size: torch.Size([2, 3])\n",
            "value: \n",
            "tensor([[0, 1, 2],\n",
            "        [3, 4, 5]])\n"
          ]
        }
      ]
    },
    {
      "cell_type": "code",
      "source": [
        "describe(torch.cat([x,x],dim = 0))"
      ],
      "metadata": {
        "colab": {
          "base_uri": "https://localhost:8080/"
        },
        "id": "v9kJHNDUjjE-",
        "outputId": "68c672e0-68ec-4401-9189-fdc3539cb67b"
      },
      "execution_count": 28,
      "outputs": [
        {
          "output_type": "stream",
          "name": "stdout",
          "text": [
            "type: torch.LongTensor\n",
            "size: torch.Size([4, 3])\n",
            "value: \n",
            "tensor([[0, 1, 2],\n",
            "        [3, 4, 5],\n",
            "        [0, 1, 2],\n",
            "        [3, 4, 5]])\n"
          ]
        }
      ]
    },
    {
      "cell_type": "code",
      "source": [
        "describe(torch.cat([x,x], dim =1))"
      ],
      "metadata": {
        "colab": {
          "base_uri": "https://localhost:8080/"
        },
        "id": "75h2YWEmkpYY",
        "outputId": "7c444b24-7cb6-44d1-8e9d-ede038226bc5"
      },
      "execution_count": 29,
      "outputs": [
        {
          "output_type": "stream",
          "name": "stdout",
          "text": [
            "type: torch.LongTensor\n",
            "size: torch.Size([2, 6])\n",
            "value: \n",
            "tensor([[0, 1, 2, 0, 1, 2],\n",
            "        [3, 4, 5, 3, 4, 5]])\n"
          ]
        }
      ]
    },
    {
      "cell_type": "code",
      "source": [
        "describe(torch.stack([x,x]))"
      ],
      "metadata": {
        "colab": {
          "base_uri": "https://localhost:8080/"
        },
        "id": "9FxNlMkhk1GK",
        "outputId": "861dcbe9-e6c4-4678-87f2-ae40c9277c5b"
      },
      "execution_count": 30,
      "outputs": [
        {
          "output_type": "stream",
          "name": "stdout",
          "text": [
            "type: torch.LongTensor\n",
            "size: torch.Size([2, 2, 3])\n",
            "value: \n",
            "tensor([[[0, 1, 2],\n",
            "         [3, 4, 5]],\n",
            "\n",
            "        [[0, 1, 2],\n",
            "         [3, 4, 5]]])\n"
          ]
        }
      ]
    },
    {
      "cell_type": "code",
      "source": [
        "x1 = torch.arange(6).view(2,3).float()\n",
        "describe(x1)"
      ],
      "metadata": {
        "colab": {
          "base_uri": "https://localhost:8080/"
        },
        "id": "wy7NjJxlk51Y",
        "outputId": "37638677-74e7-4185-e272-d6cfddecb837"
      },
      "execution_count": 31,
      "outputs": [
        {
          "output_type": "stream",
          "name": "stdout",
          "text": [
            "type: torch.FloatTensor\n",
            "size: torch.Size([2, 3])\n",
            "value: \n",
            "tensor([[0., 1., 2.],\n",
            "        [3., 4., 5.]])\n"
          ]
        }
      ]
    },
    {
      "cell_type": "code",
      "source": [
        "x2 = torch.ones(3,2)\n",
        "x2[:, 1] +=1\n",
        "describe(x2)"
      ],
      "metadata": {
        "colab": {
          "base_uri": "https://localhost:8080/"
        },
        "id": "9S2ywT7jlHAf",
        "outputId": "96abb6bd-f59b-4ef8-fde3-9fe2fa09af3f"
      },
      "execution_count": 32,
      "outputs": [
        {
          "output_type": "stream",
          "name": "stdout",
          "text": [
            "type: torch.FloatTensor\n",
            "size: torch.Size([3, 2])\n",
            "value: \n",
            "tensor([[1., 2.],\n",
            "        [1., 2.],\n",
            "        [1., 2.]])\n"
          ]
        }
      ]
    },
    {
      "cell_type": "code",
      "source": [
        "describe(torch.mm(x1,x2))"
      ],
      "metadata": {
        "colab": {
          "base_uri": "https://localhost:8080/"
        },
        "id": "k5BfsginlPa7",
        "outputId": "17a6bb5e-a89f-4160-84d7-bc7746f39ffe"
      },
      "execution_count": 33,
      "outputs": [
        {
          "output_type": "stream",
          "name": "stdout",
          "text": [
            "type: torch.FloatTensor\n",
            "size: torch.Size([2, 2])\n",
            "value: \n",
            "tensor([[ 3.,  6.],\n",
            "        [12., 24.]])\n"
          ]
        }
      ]
    },
    {
      "cell_type": "code",
      "source": [
        "x = torch.ones(2,2, requires_grad= True)\n",
        "describe(x)\n",
        "print(x.grad is None)"
      ],
      "metadata": {
        "colab": {
          "base_uri": "https://localhost:8080/"
        },
        "id": "43HurVsJlV99",
        "outputId": "87aa27a2-09cb-4f1d-9db4-c26d470caef1"
      },
      "execution_count": 34,
      "outputs": [
        {
          "output_type": "stream",
          "name": "stdout",
          "text": [
            "type: torch.FloatTensor\n",
            "size: torch.Size([2, 2])\n",
            "value: \n",
            "tensor([[1., 1.],\n",
            "        [1., 1.]], requires_grad=True)\n",
            "True\n"
          ]
        }
      ]
    },
    {
      "cell_type": "code",
      "source": [
        " y = (x+2) * (x+5) +3\n",
        " describe(y)\n",
        " print(x.grad is None)"
      ],
      "metadata": {
        "colab": {
          "base_uri": "https://localhost:8080/"
        },
        "id": "jI2gkRYVl1vK",
        "outputId": "21e96b77-b0af-4040-d273-3dbb7c221469"
      },
      "execution_count": 35,
      "outputs": [
        {
          "output_type": "stream",
          "name": "stdout",
          "text": [
            "type: torch.FloatTensor\n",
            "size: torch.Size([2, 2])\n",
            "value: \n",
            "tensor([[21., 21.],\n",
            "        [21., 21.]], grad_fn=<AddBackward0>)\n",
            "True\n"
          ]
        }
      ]
    },
    {
      "cell_type": "code",
      "source": [
        "z = y.mean()\n",
        "describe(z)\n",
        "z.backward()\n",
        "print(x.grad is None)"
      ],
      "metadata": {
        "colab": {
          "base_uri": "https://localhost:8080/"
        },
        "id": "DfYu-3CzmCNu",
        "outputId": "bac67735-7dbc-4f96-a566-7257dbdc360d"
      },
      "execution_count": 36,
      "outputs": [
        {
          "output_type": "stream",
          "name": "stdout",
          "text": [
            "type: torch.FloatTensor\n",
            "size: torch.Size([])\n",
            "value: \n",
            "21.0\n",
            "False\n"
          ]
        }
      ]
    },
    {
      "cell_type": "code",
      "source": [
        "print(torch.cuda.is_available())"
      ],
      "metadata": {
        "colab": {
          "base_uri": "https://localhost:8080/"
        },
        "id": "XB_CA91AmPrU",
        "outputId": "c0eeee3f-a153-45a5-a7c1-8ee127786572"
      },
      "execution_count": 37,
      "outputs": [
        {
          "output_type": "stream",
          "name": "stdout",
          "text": [
            "True\n"
          ]
        }
      ]
    },
    {
      "cell_type": "code",
      "source": [
        "device = torch.device(\"cuda\" if torch.cuda.is_available() else \"cpu\")\n",
        "print(device)"
      ],
      "metadata": {
        "colab": {
          "base_uri": "https://localhost:8080/"
        },
        "id": "bFfGdbLCmzR1",
        "outputId": "dda8705d-54d3-4dab-bba7-75070be74ff2"
      },
      "execution_count": 38,
      "outputs": [
        {
          "output_type": "stream",
          "name": "stdout",
          "text": [
            "cuda\n"
          ]
        }
      ]
    },
    {
      "cell_type": "code",
      "source": [
        "x = torch.rand(3,3).to(device)\n",
        "describe(x)"
      ],
      "metadata": {
        "colab": {
          "base_uri": "https://localhost:8080/"
        },
        "id": "UM8fraFhnRyq",
        "outputId": "9731201e-7566-4339-c83b-2bf3521e869d"
      },
      "execution_count": 39,
      "outputs": [
        {
          "output_type": "stream",
          "name": "stdout",
          "text": [
            "type: torch.cuda.FloatTensor\n",
            "size: torch.Size([3, 3])\n",
            "value: \n",
            "tensor([[0.4707, 0.9385, 0.0170],\n",
            "        [0.9898, 0.4269, 0.5265],\n",
            "        [0.0997, 0.5943, 0.6337]], device='cuda:0')\n"
          ]
        }
      ]
    },
    {
      "cell_type": "code",
      "source": [
        "y = torch.rand(3,3)\n",
        "x + y\n",
        "# gpu + cpu"
      ],
      "metadata": {
        "colab": {
          "base_uri": "https://localhost:8080/",
          "height": 199
        },
        "id": "fKmgvy7zng29",
        "outputId": "5aa0f2ac-b97a-4c7f-ad36-0b6e75eb88e0"
      },
      "execution_count": 40,
      "outputs": [
        {
          "output_type": "error",
          "ename": "RuntimeError",
          "evalue": "Expected all tensors to be on the same device, but found at least two devices, cuda:0 and cpu!",
          "traceback": [
            "\u001b[0;31m---------------------------------------------------------------------------\u001b[0m",
            "\u001b[0;31mRuntimeError\u001b[0m                              Traceback (most recent call last)",
            "\u001b[0;32m<ipython-input-40-ac838f838182>\u001b[0m in \u001b[0;36m<cell line: 2>\u001b[0;34m()\u001b[0m\n\u001b[1;32m      1\u001b[0m \u001b[0my\u001b[0m \u001b[0;34m=\u001b[0m \u001b[0mtorch\u001b[0m\u001b[0;34m.\u001b[0m\u001b[0mrand\u001b[0m\u001b[0;34m(\u001b[0m\u001b[0;36m3\u001b[0m\u001b[0;34m,\u001b[0m\u001b[0;36m3\u001b[0m\u001b[0;34m)\u001b[0m\u001b[0;34m\u001b[0m\u001b[0;34m\u001b[0m\u001b[0m\n\u001b[0;32m----> 2\u001b[0;31m \u001b[0mx\u001b[0m \u001b[0;34m+\u001b[0m \u001b[0my\u001b[0m\u001b[0;34m\u001b[0m\u001b[0;34m\u001b[0m\u001b[0m\n\u001b[0m",
            "\u001b[0;31mRuntimeError\u001b[0m: Expected all tensors to be on the same device, but found at least two devices, cuda:0 and cpu!"
          ]
        }
      ]
    },
    {
      "cell_type": "code",
      "source": [
        "cpu_device = torch.device(\"cpu\")\n",
        "y = y.to(cpu_device)\n",
        "x = x.to(cpu_device)\n",
        "x+y"
      ],
      "metadata": {
        "colab": {
          "base_uri": "https://localhost:8080/"
        },
        "id": "SZHkc9XLnug_",
        "outputId": "c6d85c70-0f0d-4932-de47-4d74f24f0d8c"
      },
      "execution_count": 41,
      "outputs": [
        {
          "output_type": "execute_result",
          "data": {
            "text/plain": [
              "tensor([[1.0259, 1.7799, 0.1448],\n",
              "        [1.2366, 1.2445, 0.7577],\n",
              "        [0.7669, 0.6568, 1.3317]])"
            ]
          },
          "metadata": {},
          "execution_count": 41
        }
      ]
    },
    {
      "cell_type": "markdown",
      "source": [
        "# 1.5 연습문제"
      ],
      "metadata": {
        "id": "e15C-ylUoM2s"
      }
    },
    {
      "cell_type": "code",
      "source": [
        "# problem 1\n",
        "\n",
        "x = torch.rand(4,5)\n",
        "x.unsqueeze_(0)"
      ],
      "metadata": {
        "colab": {
          "base_uri": "https://localhost:8080/"
        },
        "id": "o5GJu-mHn58L",
        "outputId": "5878bf14-fec3-47ce-c23c-759bc5de73b3"
      },
      "execution_count": 42,
      "outputs": [
        {
          "output_type": "execute_result",
          "data": {
            "text/plain": [
              "tensor([[[0.1432, 0.5290, 0.1029, 0.6764, 0.7274],\n",
              "         [0.1992, 0.9049, 0.1945, 0.4167, 0.2921],\n",
              "         [0.4985, 0.1487, 0.2976, 0.4518, 0.9284],\n",
              "         [0.8303, 0.5503, 0.2903, 0.7252, 0.3718]]])"
            ]
          },
          "metadata": {},
          "execution_count": 42
        }
      ]
    },
    {
      "cell_type": "code",
      "source": [
        "# problem 2\n",
        "\n",
        "x.squeeze_(0)"
      ],
      "metadata": {
        "colab": {
          "base_uri": "https://localhost:8080/"
        },
        "id": "GpIwNvWfo3nh",
        "outputId": "d7e89ced-544e-4704-84a8-300445bf03c2"
      },
      "execution_count": 43,
      "outputs": [
        {
          "output_type": "execute_result",
          "data": {
            "text/plain": [
              "tensor([[0.1432, 0.5290, 0.1029, 0.6764, 0.7274],\n",
              "        [0.1992, 0.9049, 0.1945, 0.4167, 0.2921],\n",
              "        [0.4985, 0.1487, 0.2976, 0.4518, 0.9284],\n",
              "        [0.8303, 0.5503, 0.2903, 0.7252, 0.3718]])"
            ]
          },
          "metadata": {},
          "execution_count": 43
        }
      ]
    },
    {
      "cell_type": "code",
      "source": [
        "# problem 3\n",
        "\n",
        "3+ torch.rand(5,3) * 4"
      ],
      "metadata": {
        "colab": {
          "base_uri": "https://localhost:8080/"
        },
        "id": "udv1kKR7qgSk",
        "outputId": "ae431c86-eb8a-4cde-ae90-e09125a4d069"
      },
      "execution_count": 44,
      "outputs": [
        {
          "output_type": "execute_result",
          "data": {
            "text/plain": [
              "tensor([[4.7898, 6.4132, 3.8457],\n",
              "        [3.9087, 3.8436, 6.2738],\n",
              "        [6.0204, 3.5136, 5.5556],\n",
              "        [5.2814, 5.3576, 3.3804],\n",
              "        [4.9525, 4.0272, 4.8527]])"
            ]
          },
          "metadata": {},
          "execution_count": 44
        }
      ]
    },
    {
      "cell_type": "code",
      "source": [
        "# problem 4\n",
        "\n",
        "torch.randn(4,5)"
      ],
      "metadata": {
        "colab": {
          "base_uri": "https://localhost:8080/"
        },
        "id": "uD8-PTwuq_Q_",
        "outputId": "be877d0e-8270-4ced-a392-69eab265ea35"
      },
      "execution_count": 45,
      "outputs": [
        {
          "output_type": "execute_result",
          "data": {
            "text/plain": [
              "tensor([[ 2.4385,  0.8531,  0.7261,  0.1648,  0.3905],\n",
              "        [-0.3168,  0.3226, -0.3259,  0.0525, -1.7139],\n",
              "        [ 0.1299,  0.5763,  2.2475,  0.4373, -0.3305],\n",
              "        [-0.4062,  2.3963, -0.1618,  1.3930,  0.1985]])"
            ]
          },
          "metadata": {},
          "execution_count": 45
        }
      ]
    },
    {
      "cell_type": "code",
      "source": [
        "# problem 5\n",
        "\n",
        "x = torch.Tensor([1,1,1,0,1])\n",
        "\n",
        "# tf = torch.Tensor(x != 0)\n",
        "# nonzero = []\n",
        "# n=0\n",
        "# for a in tf:\n",
        "#   if a == True:\n",
        "#     nonzero.append(n)\n",
        "#     n+=1\n",
        "#   else:\n",
        "#     n+=1\n",
        "# nonzero = torch.LongTensor(nonzero)\n",
        "\n",
        "torch.nonzero(x)"
      ],
      "metadata": {
        "colab": {
          "base_uri": "https://localhost:8080/"
        },
        "id": "_SeT9qNQrNcH",
        "outputId": "a9f4cf42-eb51-4707-900c-36ac363ccbdb"
      },
      "execution_count": 46,
      "outputs": [
        {
          "output_type": "execute_result",
          "data": {
            "text/plain": [
              "tensor([[0],\n",
              "        [1],\n",
              "        [2],\n",
              "        [4]])"
            ]
          },
          "metadata": {},
          "execution_count": 46
        }
      ]
    },
    {
      "cell_type": "code",
      "source": [
        "# problem  6\n",
        "\n",
        "x = torch.rand(3,1)\n",
        "# torch.cat([x,x,x,x], dim = 1)\n",
        "x.expand(3,4)"
      ],
      "metadata": {
        "colab": {
          "base_uri": "https://localhost:8080/"
        },
        "id": "XLb_X7jurfoj",
        "outputId": "2e2050f9-7e54-498c-f08d-abbd74263814"
      },
      "execution_count": 47,
      "outputs": [
        {
          "output_type": "execute_result",
          "data": {
            "text/plain": [
              "tensor([[0.4968, 0.4968, 0.4968, 0.4968],\n",
              "        [0.3528, 0.3528, 0.3528, 0.3528],\n",
              "        [0.0514, 0.0514, 0.0514, 0.0514]])"
            ]
          },
          "metadata": {},
          "execution_count": 47
        }
      ]
    },
    {
      "cell_type": "code",
      "source": [
        "# problem 7\n",
        "\n",
        "a = torch.rand(3,4,5)\n",
        "b = torch.rand(3,5,4)\n",
        "torch.bmm(a,b)"
      ],
      "metadata": {
        "colab": {
          "base_uri": "https://localhost:8080/"
        },
        "id": "6jqurTcorcTx",
        "outputId": "e66ea987-ca17-41e2-f788-3bd07614a0ba"
      },
      "execution_count": 48,
      "outputs": [
        {
          "output_type": "execute_result",
          "data": {
            "text/plain": [
              "tensor([[[1.7130, 1.3479, 0.7413, 1.2240],\n",
              "         [1.7707, 1.6995, 0.9545, 1.3322],\n",
              "         [1.2197, 1.5194, 0.7048, 0.8400],\n",
              "         [2.0416, 1.2349, 0.9843, 1.2931]],\n",
              "\n",
              "        [[2.4226, 1.8563, 1.8049, 1.5535],\n",
              "         [1.6572, 1.2255, 1.4814, 1.0210],\n",
              "         [1.7483, 1.2362, 1.4561, 0.8851],\n",
              "         [1.7831, 1.3646, 1.2876, 1.1877]],\n",
              "\n",
              "        [[1.3844, 0.9993, 1.3260, 1.1137],\n",
              "         [1.0623, 0.8242, 1.0157, 1.0442],\n",
              "         [1.7690, 1.4604, 1.9000, 1.4772],\n",
              "         [0.7714, 0.6251, 0.7879, 0.6916]]])"
            ]
          },
          "metadata": {},
          "execution_count": 48
        }
      ]
    },
    {
      "cell_type": "code",
      "source": [
        "# problem 8\n",
        "\n",
        "a = torch.rand(3,4,5)\n",
        "b = torch.rand(5,4)\n",
        "torch.bmm(a, b.unsqueeze(0).expand(3,5,4))\n"
      ],
      "metadata": {
        "colab": {
          "base_uri": "https://localhost:8080/"
        },
        "id": "FnM2H6mTvuwf",
        "outputId": "664d48c8-0c19-4df6-9632-21abada264ff"
      },
      "execution_count": 49,
      "outputs": [
        {
          "output_type": "execute_result",
          "data": {
            "text/plain": [
              "tensor([[[0.7974, 1.2032, 1.6678, 2.1116],\n",
              "         [0.7511, 0.7368, 1.0817, 1.5590],\n",
              "         [0.8752, 1.5258, 1.7471, 2.1521],\n",
              "         [0.5284, 0.8386, 0.6991, 0.8859]],\n",
              "\n",
              "        [[0.8350, 1.3417, 1.4436, 1.9860],\n",
              "         [1.2923, 1.7469, 2.2900, 2.5781],\n",
              "         [0.4491, 0.7495, 0.8158, 0.9491],\n",
              "         [0.7540, 1.3151, 1.4277, 1.5140]],\n",
              "\n",
              "        [[0.9360, 1.2718, 1.9949, 1.7540],\n",
              "         [1.1579, 1.0202, 1.7516, 1.6841],\n",
              "         [0.8257, 0.9681, 1.5084, 1.1022],\n",
              "         [0.8634, 0.8924, 1.3498, 1.5800]]])"
            ]
          },
          "metadata": {},
          "execution_count": 49
        }
      ]
    }
  ]
}